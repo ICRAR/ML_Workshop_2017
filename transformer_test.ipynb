{
  "nbformat": 4,
  "nbformat_minor": 0,
  "metadata": {
    "colab": {
      "name": "transformer_test.ipynb",
      "version": "0.3.2",
      "provenance": [],
      "collapsed_sections": [],
      "include_colab_link": true
    },
    "kernelspec": {
      "name": "python2",
      "display_name": "Python 2"
    },
    "accelerator": "GPU"
  },
  "cells": [
    {
      "cell_type": "markdown",
      "metadata": {
        "id": "view-in-github",
        "colab_type": "text"
      },
      "source": [
        "[View in Colaboratory](https://colab.research.google.com/github/ICRAR/ML_Workshop_2017/blob/master/transformer_test.ipynb)"
      ]
    },
    {
      "metadata": {
        "id": "FbYa0wUjbtJp",
        "colab_type": "code",
        "colab": {}
      },
      "cell_type": "code",
      "source": [
        "!pip install -q -U tensor2tensor\n",
        "!pip install -q tensorflow matplotlib"
      ],
      "execution_count": 0,
      "outputs": []
    },
    {
      "metadata": {
        "id": "wlQ7HzMicT6Z",
        "colab_type": "code",
        "colab": {}
      },
      "cell_type": "code",
      "source": [
        "import tensorflow as tf\n",
        "tfe = tf.contrib.eager\n",
        "tfe.enable_eager_execution()"
      ],
      "execution_count": 0,
      "outputs": []
    },
    {
      "metadata": {
        "id": "l_-deGd1cb0c",
        "colab_type": "code",
        "colab": {
          "base_uri": "https://localhost:8080/",
          "height": 34
        },
        "outputId": "84a9fa94-d4e9-4949-a87a-0436a1435358"
      },
      "cell_type": "code",
      "source": [
        "tf.__version__"
      ],
      "execution_count": 3,
      "outputs": [
        {
          "output_type": "execute_result",
          "data": {
            "text/plain": [
              "'1.10.1'"
            ]
          },
          "metadata": {
            "tags": []
          },
          "execution_count": 3
        }
      ]
    },
    {
      "metadata": {
        "id": "LeI2diqJcfhw",
        "colab_type": "code",
        "colab": {
          "base_uri": "https://localhost:8080/",
          "height": 629
        },
        "outputId": "5c3a3e2a-6584-4ba8-afae-c45d06235ff4"
      },
      "cell_type": "code",
      "source": [
        "import matplotlib.pyplot as plt\n",
        "import numpy as np\n",
        "import os\n",
        "import collections\n",
        "\n",
        "from tensor2tensor import models\n",
        "from tensor2tensor import problems\n",
        "from tensor2tensor.layers import common_layers\n",
        "from tensor2tensor.utils import trainer_lib\n",
        "from tensor2tensor.utils import t2t_model\n",
        "from tensor2tensor.utils import registry\n",
        "from tensor2tensor.utils import metrics"
      ],
      "execution_count": 4,
      "outputs": [
        {
          "output_type": "stream",
          "text": [
            "/usr/local/lib/python2.7/dist-packages/tensor2tensor/data_generators/video_generated.py:33: UserWarning: \n",
            "This call to matplotlib.use() has no effect because the backend has already\n",
            "been chosen; matplotlib.use() must be called *before* pylab, matplotlib.pyplot,\n",
            "or matplotlib.backends is imported for the first time.\n",
            "\n",
            "The backend was *originally* set to 'module://ipykernel.pylab.backend_inline' by the following code:\n",
            "  File \"/usr/lib/python2.7/runpy.py\", line 174, in _run_module_as_main\n",
            "    \"__main__\", fname, loader, pkg_name)\n",
            "  File \"/usr/lib/python2.7/runpy.py\", line 72, in _run_code\n",
            "    exec code in run_globals\n",
            "  File \"/usr/local/lib/python2.7/dist-packages/ipykernel_launcher.py\", line 16, in <module>\n",
            "    app.launch_new_instance()\n",
            "  File \"/usr/local/lib/python2.7/dist-packages/traitlets/config/application.py\", line 657, in launch_instance\n",
            "    app.initialize(argv)\n",
            "  File \"<decorator-gen-121>\", line 2, in initialize\n",
            "  File \"/usr/local/lib/python2.7/dist-packages/traitlets/config/application.py\", line 87, in catch_config_error\n",
            "    return method(app, *args, **kwargs)\n",
            "  File \"/usr/local/lib/python2.7/dist-packages/ipykernel/kernelapp.py\", line 462, in initialize\n",
            "    self.init_gui_pylab()\n",
            "  File \"/usr/local/lib/python2.7/dist-packages/ipykernel/kernelapp.py\", line 403, in init_gui_pylab\n",
            "    InteractiveShellApp.init_gui_pylab(self)\n",
            "  File \"/usr/local/lib/python2.7/dist-packages/IPython/core/shellapp.py\", line 213, in init_gui_pylab\n",
            "    r = enable(key)\n",
            "  File \"/usr/local/lib/python2.7/dist-packages/IPython/core/interactiveshell.py\", line 2950, in enable_matplotlib\n",
            "    pt.activate_matplotlib(backend)\n",
            "  File \"/usr/local/lib/python2.7/dist-packages/IPython/core/pylabtools.py\", line 309, in activate_matplotlib\n",
            "    matplotlib.pyplot.switch_backend(backend)\n",
            "  File \"/usr/local/lib/python2.7/dist-packages/matplotlib/pyplot.py\", line 232, in switch_backend\n",
            "    matplotlib.use(newbackend, warn=False, force=True)\n",
            "  File \"/usr/local/lib/python2.7/dist-packages/matplotlib/__init__.py\", line 1305, in use\n",
            "    reload(sys.modules['matplotlib.backends'])\n",
            "  File \"/usr/local/lib/python2.7/dist-packages/matplotlib/backends/__init__.py\", line 14, in <module>\n",
            "    line for line in traceback.format_stack()\n",
            "\n",
            "\n",
            "  matplotlib.use(\"agg\")\n"
          ],
          "name": "stderr"
        }
      ]
    },
    {
      "metadata": {
        "id": "upAkYBbreKlf",
        "colab_type": "code",
        "colab": {}
      },
      "cell_type": "code",
      "source": [
        "# Enable TF Eager execution\n"
      ],
      "execution_count": 0,
      "outputs": []
    },
    {
      "metadata": {
        "id": "RoLnppqmec8V",
        "colab_type": "code",
        "colab": {
          "base_uri": "https://localhost:8080/",
          "height": 34
        },
        "outputId": "c187ed42-a1b6-440b-f35c-98050a66aaf0"
      },
      "cell_type": "code",
      "source": [
        "# Other setup\n",
        "Modes = tf.estimator.ModeKeys\n",
        "Modes"
      ],
      "execution_count": 5,
      "outputs": [
        {
          "output_type": "execute_result",
          "data": {
            "text/plain": [
              "tensorflow.python.estimator.model_fn.ModeKeys"
            ]
          },
          "metadata": {
            "tags": []
          },
          "execution_count": 5
        }
      ]
    },
    {
      "metadata": {
        "id": "0Wj_nrjMeuVC",
        "colab_type": "code",
        "colab": {}
      },
      "cell_type": "code",
      "source": [
        "# setup some directories\n",
        "data_dir = os.path.expanduser(\"~/t2t/data\")\n",
        "tmp_dir = os.path.expanduser(\"~/t2t/tmp\")\n",
        "train_dir = os.path.expanduser(\"~/t2t/train\")\n",
        "checkpoint_dir = os.path.expanduser(\"~/t2t/checkpoints\")"
      ],
      "execution_count": 0,
      "outputs": []
    },
    {
      "metadata": {
        "id": "N8CEJJDPfENU",
        "colab_type": "code",
        "colab": {}
      },
      "cell_type": "code",
      "source": [
        "tf.gfile.MakeDirs(data_dir)\n",
        "tf.gfile.MakeDirs(tmp_dir)\n",
        "tf.gfile.MakeDirs(train_dir)\n",
        "tf.gfile.MakeDirs(checkpoint_dir)"
      ],
      "execution_count": 0,
      "outputs": []
    },
    {
      "metadata": {
        "id": "1qIqK5jDfUJZ",
        "colab_type": "code",
        "colab": {}
      },
      "cell_type": "code",
      "source": [
        "gs_data_dir = \"gs://tensor2tensor-data\"\n",
        "gs_ckpt_dir = \"gs://tensor2tensor-checkpoints/\""
      ],
      "execution_count": 0,
      "outputs": []
    },
    {
      "metadata": {
        "id": "_3gE0XNSfZ4m",
        "colab_type": "code",
        "colab": {
          "base_uri": "https://localhost:8080/",
          "height": 34
        },
        "outputId": "8e2c4d7c-2ca1-4db1-cdca-07116758873e"
      },
      "cell_type": "code",
      "source": [
        "os.path.exists(train_dir)"
      ],
      "execution_count": 9,
      "outputs": [
        {
          "output_type": "execute_result",
          "data": {
            "text/plain": [
              "True"
            ]
          },
          "metadata": {
            "tags": []
          },
          "execution_count": 9
        }
      ]
    },
    {
      "metadata": {
        "id": "PSQKvIbvkzAp",
        "colab_type": "code",
        "colab": {}
      },
      "cell_type": "code",
      "source": [
        "wave_problem = problems.problem('timeseries_synthetic_data_series10_samples100k')"
      ],
      "execution_count": 0,
      "outputs": []
    },
    {
      "metadata": {
        "id": "-dV0CSLdmFNs",
        "colab_type": "code",
        "colab": {
          "base_uri": "https://localhost:8080/",
          "height": 85
        },
        "outputId": "63e2db70-f933-4507-bcac-a0e4bf57b8f5"
      },
      "cell_type": "code",
      "source": [
        "wave_problem.generate_data(data_dir, tmp_dir)"
      ],
      "execution_count": 11,
      "outputs": [
        {
          "output_type": "stream",
          "text": [
            "INFO:tensorflow:Generating case 0.\n",
            "INFO:tensorflow:Generated 99651 Examples\n",
            "INFO:tensorflow:Shuffling data...\n",
            "INFO:tensorflow:Data shuffled.\n"
          ],
          "name": "stdout"
        }
      ]
    },
    {
      "metadata": {
        "id": "Ub2Mw57lnVxx",
        "colab_type": "code",
        "colab": {
          "base_uri": "https://localhost:8080/",
          "height": 221
        },
        "outputId": "b30f8e44-f9cf-4b17-a598-62085c48d048"
      },
      "cell_type": "code",
      "source": [
        "!ls -lrth {data_dir}"
      ],
      "execution_count": 12,
      "outputs": [
        {
          "output_type": "stream",
          "text": [
            "total 1.4G\n",
            "-rw-r--r-- 1 root root 122M Sep 17 15:37 timeseries_synthetic_data_series10_samples100k-train-00000-of-00009\n",
            "-rw-r--r-- 1 root root 122M Sep 17 15:37 timeseries_synthetic_data_series10_samples100k-train-00001-of-00009\n",
            "-rw-r--r-- 1 root root 122M Sep 17 15:37 timeseries_synthetic_data_series10_samples100k-train-00002-of-00009\n",
            "-rw-r--r-- 1 root root 122M Sep 17 15:37 timeseries_synthetic_data_series10_samples100k-train-00003-of-00009\n",
            "-rw-r--r-- 1 root root 122M Sep 17 15:37 timeseries_synthetic_data_series10_samples100k-train-00004-of-00009\n",
            "-rw-r--r-- 1 root root 122M Sep 17 15:37 timeseries_synthetic_data_series10_samples100k-train-00005-of-00009\n",
            "-rw-r--r-- 1 root root 122M Sep 17 15:37 timeseries_synthetic_data_series10_samples100k-train-00006-of-00009\n",
            "-rw-r--r-- 1 root root 122M Sep 17 15:37 timeseries_synthetic_data_series10_samples100k-train-00007-of-00009\n",
            "-rw-r--r-- 1 root root 122M Sep 17 15:37 timeseries_synthetic_data_series10_samples100k-train-00008-of-00009\n",
            "-rw-r--r-- 1 root root 122M Sep 17 15:37 timeseries_synthetic_data_series10_samples100k-dev-00000-of-00001\n",
            "-rw-r--r-- 1 root root 122M Sep 17 15:37 timeseries_synthetic_data_series10_samples100k-test-00000-of-00001\n"
          ],
          "name": "stdout"
        }
      ]
    },
    {
      "metadata": {
        "id": "rGFnd7vvo2Cb",
        "colab_type": "code",
        "colab": {
          "base_uri": "https://localhost:8080/",
          "height": 51
        },
        "outputId": "662c06cd-3476-4e71-9fa4-93391fb59c8c"
      },
      "cell_type": "code",
      "source": [
        "wave_example = tfe.Iterator(wave_problem.dataset(Modes.TRAIN, data_dir)).next()"
      ],
      "execution_count": 13,
      "outputs": [
        {
          "output_type": "stream",
          "text": [
            "INFO:tensorflow:Reading data files from /root/t2t/data/timeseries_synthetic_data_series10_samples100k-train*\n",
            "INFO:tensorflow:partition: 0 num_data_files: 9\n"
          ],
          "name": "stdout"
        }
      ]
    },
    {
      "metadata": {
        "id": "J_kLndGbpvUN",
        "colab_type": "code",
        "colab": {
          "base_uri": "https://localhost:8080/",
          "height": 34
        },
        "outputId": "fa97bc05-25f1-4d36-f722-99e9b420d2b0"
      },
      "cell_type": "code",
      "source": [
        "wave_example.keys()"
      ],
      "execution_count": 14,
      "outputs": [
        {
          "output_type": "execute_result",
          "data": {
            "text/plain": [
              "['inputs', 'batch_prediction_key', 'targets']"
            ]
          },
          "metadata": {
            "tags": []
          },
          "execution_count": 14
        }
      ]
    },
    {
      "metadata": {
        "id": "eU3bvCtLrRwE",
        "colab_type": "code",
        "colab": {}
      },
      "cell_type": "code",
      "source": [
        "inputs = wave_example['inputs']"
      ],
      "execution_count": 0,
      "outputs": []
    },
    {
      "metadata": {
        "id": "rWsZR1qUr4jX",
        "colab_type": "code",
        "colab": {
          "base_uri": "https://localhost:8080/",
          "height": 34
        },
        "outputId": "656d701a-2b5b-40d5-d5dc-dfadaa16798d"
      },
      "cell_type": "code",
      "source": [
        "inputs.shape"
      ],
      "execution_count": 16,
      "outputs": [
        {
          "output_type": "execute_result",
          "data": {
            "text/plain": [
              "TensorShape([Dimension(250), Dimension(1), Dimension(10)])"
            ]
          },
          "metadata": {
            "tags": []
          },
          "execution_count": 16
        }
      ]
    },
    {
      "metadata": {
        "id": "G7MDWhzNr5gB",
        "colab_type": "code",
        "colab": {
          "base_uri": "https://localhost:8080/",
          "height": 34
        },
        "outputId": "9d10a271-b7fb-48e1-d652-86c0f33fec5a"
      },
      "cell_type": "code",
      "source": [
        "targets = wave_example['targets']\n",
        "targets.shape"
      ],
      "execution_count": 17,
      "outputs": [
        {
          "output_type": "execute_result",
          "data": {
            "text/plain": [
              "TensorShape([Dimension(100), Dimension(1), Dimension(10)])"
            ]
          },
          "metadata": {
            "tags": []
          },
          "execution_count": 17
        }
      ]
    },
    {
      "metadata": {
        "id": "ZB8YVYSH9U41",
        "colab_type": "text"
      },
      "cell_type": "markdown",
      "source": [
        ""
      ]
    },
    {
      "metadata": {
        "id": "kTLEo5MusHbx",
        "colab_type": "code",
        "colab": {
          "base_uri": "https://localhost:8080/",
          "height": 364
        },
        "outputId": "a4cfaa3e-0d83-4a90-e1c7-a807a5f68082"
      },
      "cell_type": "code",
      "source": [
        "plt.plot(np.squeeze(inputs[:,:,5]))\n",
        "plt.plot(np.squeeze(inputs[:,:,4]))"
      ],
      "execution_count": 47,
      "outputs": [
        {
          "output_type": "execute_result",
          "data": {
            "text/plain": [
              "[<matplotlib.lines.Line2D at 0x7f864e018a90>]"
            ]
          },
          "metadata": {
            "tags": []
          },
          "execution_count": 47
        },
        {
          "output_type": "display_data",
          "data": {
            "image/png": "[encoded data removed]",
            "text/plain": [
              "<matplotlib.figure.Figure at 0x7f864e22b0d0>"
            ]
          },
          "metadata": {
            "tags": []
          }
        }
      ]
    },
    {
      "metadata": {
        "id": "ye-MduhnsXkU",
        "colab_type": "code",
        "colab": {
          "base_uri": "https://localhost:8080/",
          "height": 364
        },
        "outputId": "60551b99-9d24-4238-dc77-50c2885c1c2d"
      },
      "cell_type": "code",
      "source": [
        "plt.plot(np.squeeze(targets[:,:,5]))\n",
        "plt.plot(np.squeeze(targets[:,:,4]))"
      ],
      "execution_count": 48,
      "outputs": [
        {
          "output_type": "execute_result",
          "data": {
            "text/plain": [
              "[<matplotlib.lines.Line2D at 0x7f864dfa4150>]"
            ]
          },
          "metadata": {
            "tags": []
          },
          "execution_count": 48
        },
        {
          "output_type": "display_data",
          "data": {
            "image/png": "[encoded data removed]",
            "text/plain": [
              "<matplotlib.figure.Figure at 0x7f864e06b050>"
            ]
          },
          "metadata": {
            "tags": []
          }
        }
      ]
    },
    {
      "metadata": {
        "id": "be0hPPyHtJrI",
        "colab_type": "code",
        "colab": {}
      },
      "cell_type": "code",
      "source": [
        "model_name = \"transformer\" # LSTMSeq2seqAttention\n",
        "hparams_set = \"transformer_base\" # lstm_attention\n",
        "prob_name = \"timeseries_synthetic_data_series10_samples100k\""
      ],
      "execution_count": 0,
      "outputs": []
    },
    {
      "metadata": {
        "id": "mI5ZbilY1Sl5",
        "colab_type": "code",
        "colab": {}
      },
      "cell_type": "code",
      "source": [
        "hparams = trainer_lib.create_hparams(hparams_set, data_dir=data_dir, problem_name=prob_name)"
      ],
      "execution_count": 0,
      "outputs": []
    },
    {
      "metadata": {
        "id": "R9cr_yD21z16",
        "colab_type": "code",
        "colab": {
          "base_uri": "https://localhost:8080/",
          "height": 34
        },
        "outputId": "3938c56f-2cf1-42e4-8ef4-aa0cfe0c90b7"
      },
      "cell_type": "code",
      "source": [
        "timeseries_model = registry.model(model_name)(hparams, Modes.TRAIN)"
      ],
      "execution_count": 22,
      "outputs": [
        {
          "output_type": "stream",
          "text": [
            "INFO:tensorflow:Setting T2TModel mode to 'train'\n"
          ],
          "name": "stdout"
        }
      ]
    },
    {
      "metadata": {
        "id": "A359RDD_11yX",
        "colab_type": "code",
        "colab": {
          "base_uri": "https://localhost:8080/",
          "height": 34
        },
        "outputId": "9bbe1c63-ace4-475a-ff1b-f82f8d739486"
      },
      "cell_type": "code",
      "source": [
        "hparams.batch_size"
      ],
      "execution_count": 23,
      "outputs": [
        {
          "output_type": "execute_result",
          "data": {
            "text/plain": [
              "4096"
            ]
          },
          "metadata": {
            "tags": []
          },
          "execution_count": 23
        }
      ]
    },
    {
      "metadata": {
        "id": "R7TBIDBqBkvr",
        "colab_type": "code",
        "colab": {}
      },
      "cell_type": "code",
      "source": [
        "hparams.batch_size = 1"
      ],
      "execution_count": 0,
      "outputs": []
    },
    {
      "metadata": {
        "id": "EeYA0AB64W7V",
        "colab_type": "code",
        "colab": {
          "base_uri": "https://localhost:8080/",
          "height": 51
        },
        "outputId": "65355993-7896-46a3-f50b-8eb89915fbd8"
      },
      "cell_type": "code",
      "source": [
        "train_data_set = wave_problem.dataset(Modes.TRAIN, data_dir)"
      ],
      "execution_count": 25,
      "outputs": [
        {
          "output_type": "stream",
          "text": [
            "INFO:tensorflow:Reading data files from /root/t2t/data/timeseries_synthetic_data_series10_samples100k-train*\n",
            "INFO:tensorflow:partition: 0 num_data_files: 9\n"
          ],
          "name": "stdout"
        }
      ]
    },
    {
      "metadata": {
        "id": "OYAFwIaJ8id3",
        "colab_type": "code",
        "colab": {}
      },
      "cell_type": "code",
      "source": [
        "BATCH_SIZE = 1\n",
        "train_data_set = train_data_set.repeat(None).batch(BATCH_SIZE)"
      ],
      "execution_count": 0,
      "outputs": []
    },
    {
      "metadata": {
        "id": "Di987tC98s0R",
        "colab_type": "code",
        "colab": {}
      },
      "cell_type": "code",
      "source": [
        "optimizer = tf.train.AdamOptimizer()"
      ],
      "execution_count": 0,
      "outputs": []
    },
    {
      "metadata": {
        "id": "bEJ8aTKx9x0A",
        "colab_type": "code",
        "colab": {}
      },
      "cell_type": "code",
      "source": [
        "@tfe.implicit_value_and_gradients\n",
        "def loss_fn(features):\n",
        "  _, losses = timeseries_model(features)\n",
        "  return losses[\"training\"]\n",
        "\n",
        "def train_model():\n",
        "  # Train\n",
        "  NUM_STEPS = 50\n",
        "\n",
        "  for count, example in enumerate(tfe.Iterator(train_data_set)):\n",
        "    #example[\"targets\"] = tf.reshape(example[\"targets\"], [BATCH_SIZE, 1, 1, 1])  # Make it 4D.\n",
        "    #print(example[\"inputs\"].shape)\n",
        "    #print(example[\"targets\"].shape)\n",
        "    loss, gv = loss_fn(example)\n",
        "    optimizer.apply_gradients(gv)\n",
        "\n",
        "    if count % 25 == 0:\n",
        "      print(\"Step: %d, Loss: %.3f\" % (count, loss.numpy()))\n",
        "    if count >= NUM_STEPS:\n",
        "      break"
      ],
      "execution_count": 0,
      "outputs": []
    },
    {
      "metadata": {
        "id": "vbOTWlKX-B9Q",
        "colab_type": "code",
        "colab": {
          "base_uri": "https://localhost:8080/",
          "height": 136
        },
        "outputId": "0325302e-81b9-43fb-f43d-49c8f71e2f17"
      },
      "cell_type": "code",
      "source": [
        "train_model()"
      ],
      "execution_count": 29,
      "outputs": [
        {
          "output_type": "stream",
          "text": [
            "INFO:tensorflow:Transforming feature 'inputs' with real_l2_loss_modality.bottom\n",
            "INFO:tensorflow:Transforming 'targets' with real_l2_loss_modality.targets_bottom\n",
            "INFO:tensorflow:Building model body\n",
            "INFO:tensorflow:Transforming body output with real_l2_loss_modality.top\n",
            "Step: 0, Loss: 230.297\n",
            "Step: 25, Loss: 12.436\n",
            "Step: 50, Loss: 6.015\n"
          ],
          "name": "stdout"
        }
      ]
    },
    {
      "metadata": {
        "id": "8nTK2XDT-LSj",
        "colab_type": "code",
        "colab": {}
      },
      "cell_type": "code",
      "source": [
        "def test_model():\n",
        "  timeseries_model.set_mode(Modes.EVAL)\n",
        "  test_data_set = wave_problem.dataset(Modes.EVAL, data_dir)\n",
        "  metrics_accum, metrics_result = metrics.create_eager_metrics([metrics.Metrics.RMSE, metrics.Metrics.R2])\n",
        "  \n",
        "  for count, example in enumerate(tfe.Iterator(test_data_set)):\n",
        "    if count >= 20:\n",
        "      break\n",
        "    #print(example[\"inputs\"].shape)\n",
        "    #print(example[\"targets\"].shape)\n",
        "    # Make the inputs and targets 4D\n",
        "    example[\"inputs\"] = tf.reshape(example[\"inputs\"], [1, 250, 1, 10])\n",
        "    example[\"targets\"] = tf.reshape(example[\"targets\"], [1, 100, 1, 10])\n",
        "\n",
        "    # Call the model\n",
        "    predictions, _ = timeseries_model(example)\n",
        "\n",
        "    # Compute and accumulate metrics\n",
        "    metrics_accum(predictions, example[\"targets\"])\n",
        "\n",
        "  # Print out the averaged metric values on the eval data\n",
        "  for name, val in metrics_result().items():\n",
        "    print(\"%s - %s: %.2f\" % (model_name, name, val))"
      ],
      "execution_count": 0,
      "outputs": []
    },
    {
      "metadata": {
        "id": "xRhf7IKoEKyd",
        "colab_type": "code",
        "colab": {
          "base_uri": "https://localhost:8080/",
          "height": 204
        },
        "outputId": "cf40df96-a230-440e-e038-76d85d787d1d"
      },
      "cell_type": "code",
      "source": [
        "test_model()"
      ],
      "execution_count": 31,
      "outputs": [
        {
          "output_type": "stream",
          "text": [
            "INFO:tensorflow:Setting T2TModel mode to 'eval'\n",
            "INFO:tensorflow:Setting hparams.layer_prepostprocess_dropout to 0.0\n",
            "INFO:tensorflow:Setting hparams.symbol_dropout to 0.0\n",
            "INFO:tensorflow:Setting hparams.label_smoothing to 0.0\n",
            "INFO:tensorflow:Setting hparams.attention_dropout to 0.0\n",
            "INFO:tensorflow:Setting hparams.dropout to 0.0\n",
            "INFO:tensorflow:Setting hparams.relu_dropout to 0.0\n",
            "INFO:tensorflow:Reading data files from /root/t2t/data/timeseries_synthetic_data_series10_samples100k-dev*\n",
            "INFO:tensorflow:partition: 0 num_data_files: 1\n",
            "transformer - r_squared: 0.96\n",
            "transformer - rmse: 1.43\n"
          ],
          "name": "stdout"
        }
      ]
    },
    {
      "metadata": {
        "id": "TNUmDRkYEi-w",
        "colab_type": "code",
        "colab": {}
      },
      "cell_type": "code",
      "source": [
        ""
      ],
      "execution_count": 0,
      "outputs": []
    },
    {
      "metadata": {
        "id": "ryi-Yah0FHas",
        "colab_type": "code",
        "colab": {
          "base_uri": "https://localhost:8080/",
          "height": 136
        },
        "outputId": "8a5814ef-7d33-478c-f258-d34d3a969d40"
      },
      "cell_type": "code",
      "source": [
        "model_name = \"lstm_seq2seq\"\n",
        "hparams_set = \"lstm_seq2seq\"\n",
        "hparams = trainer_lib.create_hparams(hparams_set, data_dir=data_dir, problem_name=prob_name)\n",
        "hparams.batch_size = 1\n",
        "timeseries_model = registry.model(model_name)(hparams, Modes.TRAIN)\n",
        "train_model()\n",
        "test_model()"
      ],
      "execution_count": 52,
      "outputs": [
        {
          "output_type": "stream",
          "text": [
            "Step: 0, Loss: 206.372\n",
            "Step: 25, Loss: 52.357\n",
            "Step: 50, Loss: 45.433\n",
            "INFO:tensorflow:Reading data files from /root/t2t/data/timeseries_synthetic_data_series10_samples100k-dev*\n",
            "INFO:tensorflow:partition: 0 num_data_files: 1\n",
            "lstm_seq2seq - r_squared: 0.73\n",
            "lstm_seq2seq - rmse: 4.47\n"
          ],
          "name": "stdout"
        }
      ]
    },
    {
      "metadata": {
        "id": "N5FVfen0MQjs",
        "colab_type": "code",
        "colab": {}
      },
      "cell_type": "code",
      "source": [
        ""
      ],
      "execution_count": 0,
      "outputs": []
    }
  ]
}