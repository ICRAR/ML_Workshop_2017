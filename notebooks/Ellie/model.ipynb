{
 "cells": [
  {
   "cell_type": "code",
   "execution_count": 1,
   "metadata": {
    "collapsed": true
   },
   "outputs": [],
   "source": [
    "import tensorflow as tf\n",
    "\n",
    "from preprocessing import lenet_preprocessing\n",
    "\n",
    "slim = tf.contrib.slim\n",
    "\n",
    "\n",
    "def lenet(images):\n",
    "    net = slim.conv2d(images, 20, [5,5], scope='conv1')\n",
    "    net = slim.max_pool2d(net, [2,2], scope='pool1')\n",
    "    net = slim.conv2d(net, 50, [5,5], scope='conv2')\n",
    "    net = slim.max_pool2d(net, [2,2], scope='pool2')\n",
    "    net = slim.flatten(net, scope='flatten3')\n",
    "    net = slim.fully_connected(net, 500, scope='fc4')\n",
    "    net = slim.fully_connected(net, 10, activation_fn=None, scope='fc5')\n",
    "    return net\n",
    "\n",
    "\n",
    "def load_batch(dataset, batch_size=32, height=28, width=28, is_training=False):\n",
    "    data_provider = slim.dataset_data_provider.DatasetDataProvider(dataset)\n",
    "\n",
    "    image, label = data_provider.get(['image', 'label'])\n",
    "\n",
    "    image = lenet_preprocessing.preprocess_image(\n",
    "        image,\n",
    "        height,\n",
    "        width,\n",
    "        is_training)\n",
    "\n",
    "    images, labels = tf.train.batch(\n",
    "        [image, label],\n",
    "        batch_size=batch_size,\n",
    "        allow_smaller_final_batch=True)\n",
    "\n",
    "    return images, labels\n",
    "\n"
   ]
  }
 ],
 "metadata": {
  "kernelspec": {
   "display_name": "Python 2",
   "language": "python",
   "name": "python2"
  },
  "language_info": {
   "codemirror_mode": {
    "name": "ipython",
    "version": 2
   },
   "file_extension": ".py",
   "mimetype": "text/x-python",
   "name": "python",
   "nbconvert_exporter": "python",
   "pygments_lexer": "ipython2",
   "version": "2.7.14"
  }
 },
 "nbformat": 4,
 "nbformat_minor": 2
}
