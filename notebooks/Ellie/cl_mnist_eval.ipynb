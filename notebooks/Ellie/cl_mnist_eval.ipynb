{
  "nbformat": 4,
  "nbformat_minor": 0,
  "metadata": {
    "colab": {
      "name": "mnist_eval.ipynb",
      "version": "0.3.2",
      "views": {},
      "default_view": {},
      "provenance": []
    },
    "kernelspec": {
      "display_name": "Python 2",
      "language": "python",
      "name": "python2"
    }
  },
  "cells": [
    {
      "metadata": {
        "id": "CtAbyg2EG--E",
        "colab_type": "text"
      },
      "source": [
        "# Evaluating Process\n",
        "We are able to evaluate the model against test dataset both after and in parallel with the training process. We aim to perform the latter method in this workshop. In the former, the evaluation performs on all the pre-build check-points however the latter evaluates every single checkpoint that the training process generates. Anyhow, let's go through the evaluation process.\n",
        "\n",
        "Again, we import `tensorflow`, `mnist`, `lenet`, and `load_batch`."
      ],
      "cell_type": "markdown"
    },
    {
      "metadata": {
        "id": "yKge_qvIG--G",
        "colab_type": "code",
        "colab": {
          "autoexec": {
            "startup": false,
            "wait_interval": 0
          },
          "output_extras": [
            {
              "item_id": 1
            }
          ],
          "base_uri": "https://localhost:8080/",
          "height": 71
        },
        "outputId": "6dfb3a29-a3bc-483b-ea16-c744d08735ce",
        "executionInfo": {
          "status": "ok",
          "timestamp": 1512035330692,
          "user_tz": -480,
          "elapsed": 557,
          "user": {
            "displayName": "Richard Dodson",
            "photoUrl": "//lh5.googleusercontent.com/-f94LMF0bnco/AAAAAAAAAAI/AAAAAAAAAAA/tc5rhyC858Q/s50-c-k-no/photo.jpg",
            "userId": "118150954080456640081"
          }
        }
      },
      "source": [
        "import sys\n",
        "print(sys.path)\n",
        "print(sys.meta_path)"
      ],
      "cell_type": "code",
      "execution_count": 2,
      "outputs": [
        {
          "output_type": "stream",
          "text": [
            "['', '/env/python', '/usr/lib/python2.7', '/usr/lib/python2.7/plat-x86_64-linux-gnu', '/usr/lib/python2.7/lib-tk', '/usr/lib/python2.7/lib-old', '/usr/lib/python2.7/lib-dynload', '/usr/local/lib/python2.7/dist-packages', '/usr/lib/python2.7/dist-packages', '/usr/local/lib/python2.7/dist-packages/IPython/extensions', '/content/.ipython']\n",
            "[<six._SixMetaPathImporter object at 0x7f2489614750>, <pkg_resources.extern.VendorImporter instance at 0x7f2487a94a28>, <pkg_resources._vendor.six._SixMetaPathImporter object at 0x7f24879f1d50>, <IPython.utils.shimmodule.ShimImporter object at 0x7f2456d53790>, <IPython.utils.shimmodule.ShimImporter object at 0x7f2456d53810>]\n"
          ],
          "name": "stdout"
        }
      ]
    },
    {
      "metadata": {
        "id": "pPfmJ768G--M",
        "colab_type": "code",
        "colab": {
          "autoexec": {
            "startup": false,
            "wait_interval": 0
          }
        }
      },
      "source": [
        "import tensorflow as tf\n",
        "\n",
        "from datasets import mnist\n",
        "from model import lenet, load_batch"
      ],
      "cell_type": "code",
      "execution_count": 0,
      "outputs": []
    },
    {
      "metadata": {
        "id": "WeDwsuXoUq7N",
        "colab_type": "code",
        "colab": {
          "autoexec": {
            "startup": false,
            "wait_interval": 0
          },
          "output_extras": [
            {
              "item_id": 1
            }
          ],
          "base_uri": "https://localhost:8080/",
          "height": 1955
        },
        "outputId": "b11cd291-77e5-44f6-b85b-c0689567d1b1",
        "executionInfo": {
          "status": "ok",
          "timestamp": 1512035332888,
          "user_tz": -480,
          "elapsed": 793,
          "user": {
            "displayName": "Richard Dodson",
            "photoUrl": "//lh5.googleusercontent.com/-f94LMF0bnco/AAAAAAAAAAI/AAAAAAAAAAA/tc5rhyC858Q/s50-c-k-no/photo.jpg",
            "userId": "118150954080456640081"
          }
        }
      },
      "source": [
        "!ls -R\n"
      ],
      "cell_type": "code",
      "execution_count": 4,
      "outputs": [
        {
          "output_type": "stream",
          "text": [
            ".:\r\n",
            "data\t       index.html?C=D;O=A  index.html?C=N;O=D  mnist_train.ipynb\r\n",
            "datalab        index.html?C=D;O=D  index.html?C=S;O=A  model.py\r\n",
            "datasets       index.html?C=M;O=A  index.html?C=S;O=D  model.pyc\r\n",
            "Ellie\t       index.html?C=M;O=D  log\t\t       preprocessing\r\n",
            "ict.icrar.org  index.html?C=N;O=A  mnist_eval.ipynb\r\n",
            "\r\n",
            "./data:\r\n",
            "index.html\t    index.html?C=M;O=D\tindex.html?C=S;O=D\r\n",
            "index.html?C=D;O=A  index.html?C=N;O=A\tmnist_test.tfrecord\r\n",
            "index.html?C=D;O=D  index.html?C=N;O=D\tmnist_train.tfrecord\r\n",
            "index.html?C=M;O=A  index.html?C=S;O=A\r\n",
            "\r\n",
            "./datalab:\r\n",
            "\r\n",
            "./datasets:\r\n",
            "dataset_utils.py\t       index.html?C=M;O=A  __init__.py\r\n",
            "dataset_utils.pyc\t       index.html?C=M;O=D  __init__.pyc\r\n",
            "download_and_convert_mnist.py  index.html?C=N;O=A  mnist.py\r\n",
            "index.html\t\t       index.html?C=N;O=D  mnist.pyc\r\n",
            "index.html?C=D;O=A\t       index.html?C=S;O=A\r\n",
            "index.html?C=D;O=D\t       index.html?C=S;O=D\r\n",
            "\r\n",
            "./Ellie:\r\n",
            "data\t\t    index.html?C=M;O=A\tindex.html?C=S;O=A  mnist_train.ipynb\r\n",
            "datasets\t    index.html?C=M;O=D\tindex.html?C=S;O=D  model.py\r\n",
            "index.html?C=D;O=A  index.html?C=N;O=A\tlog\t\t    preprocessing\r\n",
            "index.html?C=D;O=D  index.html?C=N;O=D\tmnist_eval.ipynb\r\n",
            "\r\n",
            "./Ellie/data:\r\n",
            "index.html\t    index.html?C=M;O=D\tindex.html?C=S;O=D\r\n",
            "index.html?C=D;O=A  index.html?C=N;O=A\tmnist_test.tfrecord\r\n",
            "index.html?C=D;O=D  index.html?C=N;O=D\tmnist_train.tfrecord\r\n",
            "index.html?C=M;O=A  index.html?C=S;O=A\r\n",
            "\r\n",
            "./Ellie/datasets:\r\n",
            "dataset_utils.py\t       index.html?C=D;O=D  index.html?C=N;O=D  mnist.py\r\n",
            "download_and_convert_mnist.py  index.html?C=M;O=A  index.html?C=S;O=A\r\n",
            "index.html\t\t       index.html?C=M;O=D  index.html?C=S;O=D\r\n",
            "index.html?C=D;O=A\t       index.html?C=N;O=A  __init__.py\r\n",
            "\r\n",
            "./Ellie/log:\r\n",
            "desc\t\t    index.html?C=D;O=D\tindex.html?C=N;O=A  index.html?C=S;O=D\r\n",
            "index.html\t    index.html?C=M;O=A\tindex.html?C=N;O=D\r\n",
            "index.html?C=D;O=A  index.html?C=M;O=D\tindex.html?C=S;O=A\r\n",
            "\r\n",
            "./Ellie/preprocessing:\r\n",
            "index.html\t    index.html?C=M;O=D\tindex.html?C=S;O=D\r\n",
            "index.html?C=D;O=A  index.html?C=N;O=A\t__init__.py\r\n",
            "index.html?C=D;O=D  index.html?C=N;O=D\tlenet_preprocessing.py\r\n",
            "index.html?C=M;O=A  index.html?C=S;O=A\r\n",
            "\r\n",
            "./ict.icrar.org:\r\n",
            "store\r\n",
            "\r\n",
            "./ict.icrar.org/store:\r\n",
            "staff\r\n",
            "\r\n",
            "./ict.icrar.org/store/staff:\r\n",
            "rdodson\r\n",
            "\r\n",
            "./ict.icrar.org/store/staff/rdodson:\r\n",
            "ML_WS\r\n",
            "\r\n",
            "./ict.icrar.org/store/staff/rdodson/ML_WS:\r\n",
            "colab_req.txt  index.html\t   index.html?C=M;O=A  index.html?C=N;O=D\r\n",
            "Ellie\t       index.html?C=D;O=A  index.html?C=M;O=D  index.html?C=S;O=A\r\n",
            "Ellie.1        index.html?C=D;O=D  index.html?C=N;O=A  index.html?C=S;O=D\r\n",
            "\r\n",
            "./ict.icrar.org/store/staff/rdodson/ML_WS/Ellie:\r\n",
            "data\t\t    index.html?C=M;O=A\tindex.html?C=S;O=A  mnist_train.ipynb\r\n",
            "datasets\t    index.html?C=M;O=D\tindex.html?C=S;O=D  model.py\r\n",
            "index.html?C=D;O=A  index.html?C=N;O=A\tlog\t\t    preprocessing\r\n",
            "index.html?C=D;O=D  index.html?C=N;O=D\tmnist_eval.ipynb\r\n",
            "\r\n",
            "./ict.icrar.org/store/staff/rdodson/ML_WS/Ellie/data:\r\n",
            "index.html\t    index.html?C=M;O=D\tindex.html?C=S;O=D\r\n",
            "index.html?C=D;O=A  index.html?C=N;O=A\tmnist_test.tfrecord\r\n",
            "index.html?C=D;O=D  index.html?C=N;O=D\tmnist_train.tfrecord\r\n",
            "index.html?C=M;O=A  index.html?C=S;O=A\r\n",
            "\r\n",
            "./ict.icrar.org/store/staff/rdodson/ML_WS/Ellie/datasets:\r\n",
            "dataset_utils.py\t       index.html?C=D;O=D  index.html?C=N;O=D  mnist.py\r\n",
            "download_and_convert_mnist.py  index.html?C=M;O=A  index.html?C=S;O=A\r\n",
            "index.html\t\t       index.html?C=M;O=D  index.html?C=S;O=D\r\n",
            "index.html?C=D;O=A\t       index.html?C=N;O=A  __init__.py\r\n",
            "\r\n",
            "./ict.icrar.org/store/staff/rdodson/ML_WS/Ellie/log:\r\n",
            "desc\t\t    index.html?C=D;O=D\tindex.html?C=N;O=A  index.html?C=S;O=D\r\n",
            "index.html\t    index.html?C=M;O=A\tindex.html?C=N;O=D\r\n",
            "index.html?C=D;O=A  index.html?C=M;O=D\tindex.html?C=S;O=A\r\n",
            "\r\n",
            "./ict.icrar.org/store/staff/rdodson/ML_WS/Ellie/preprocessing:\r\n",
            "index.html\t    index.html?C=M;O=D\tindex.html?C=S;O=D\r\n",
            "index.html?C=D;O=A  index.html?C=N;O=A\t__init__.py\r\n",
            "index.html?C=D;O=D  index.html?C=N;O=D\tlenet_preprocessing.py\r\n",
            "index.html?C=M;O=A  index.html?C=S;O=A\r\n",
            "\r\n",
            "./log:\r\n",
            "checkpoint\t\t\t\t     index.html?C=M;O=D\r\n",
            "desc\t\t\t\t\t     index.html?C=N;O=A\r\n",
            "events.out.tfevents.1512032195.16dcf6d0ee02  index.html?C=N;O=D\r\n",
            "graph.pbtxt\t\t\t\t     index.html?C=S;O=A\r\n",
            "index.html\t\t\t\t     index.html?C=S;O=D\r\n",
            "index.html?C=D;O=A\t\t\t     model.ckpt-0.data-00000-of-00001\r\n",
            "index.html?C=D;O=D\t\t\t     model.ckpt-0.index\r\n",
            "index.html?C=M;O=A\t\t\t     model.ckpt-0.meta\r\n",
            "\r\n",
            "./preprocessing:\r\n",
            "index.html\t    index.html?C=N;O=A\t__init__.pyc\r\n",
            "index.html?C=D;O=A  index.html?C=N;O=D\tlenet_preprocessing.py\r\n",
            "index.html?C=D;O=D  index.html?C=S;O=A\tlenet_preprocessing.pyc\r\n",
            "index.html?C=M;O=A  index.html?C=S;O=D\r\n",
            "index.html?C=M;O=D  __init__.py\r\n"
          ],
          "name": "stdout"
        }
      ]
    },
    {
      "metadata": {
        "id": "O1vKlIGpG--S",
        "colab_type": "text"
      },
      "source": [
        "Like the train code, we shorten some directions and specify the flags."
      ],
      "cell_type": "markdown"
    },
    {
      "metadata": {
        "id": "u8Bdx7ApG--T",
        "colab_type": "code",
        "colab": {
          "autoexec": {
            "startup": false,
            "wait_interval": 0
          }
        }
      },
      "source": [
        "slim = tf.contrib.slim\n",
        "metrics = tf.contrib.metrics\n",
        "\n",
        "flags = tf.app.flags\n",
        "flags.DEFINE_string('data_dir', './data/',\n",
        "                    'Directory with the MNIST data.')\n",
        "flags.DEFINE_integer('batch_size', 5, 'Batch size.')\n",
        "flags.DEFINE_integer('eval_interval_secs', 60,\n",
        "                    'Number of seconds between evaluations.')\n",
        "flags.DEFINE_integer('num_evals', 100, 'Number of batches to evaluate.')\n",
        "flags.DEFINE_string('log_dir', './log/',\n",
        "                    'Directory where to log evaluation data.')\n",
        "flags.DEFINE_string('checkpoint_dir', './log/',\n",
        "                    'Directory with the model checkpoint data.')\n",
        "FLAGS = flags.FLAGS"
      ],
      "cell_type": "code",
      "execution_count": 0,
      "outputs": []
    },
    {
      "metadata": {
        "id": "OxyCzaEAG--W",
        "colab_type": "text"
      },
      "source": [
        "Load the dataset using `mnist.get_split`. Notice that we load the test dataset here since we have to evaluate the model using a separate dataset from the training dataset. Otherwise, the accuracy will turn out an unrealistic value, i.e. 1 or so close. To test the quality of the recognition in real-world conditions, we must use digits that the system has NOT seen during training. Otherwise, it could learn all the training digits by heart and still fail at recognizing an \"8\" that I just wrote. The MNIST dataset contains 10,000 test digits."
      ],
      "cell_type": "markdown"
    },
    {
      "metadata": {
        "id": "PmKBgJZhG--X",
        "colab_type": "code",
        "colab": {
          "autoexec": {
            "startup": false,
            "wait_interval": 0
          }
        }
      },
      "source": [
        "dataset = mnist.get_split('test', FLAGS.data_dir)\n",
        "\n",
        "images, labels = load_batch(\n",
        "    dataset,\n",
        "    FLAGS.batch_size,\n",
        "    is_training=False)"
      ],
      "cell_type": "code",
      "execution_count": 0,
      "outputs": []
    },
    {
      "metadata": {
        "id": "1CaazuAfG--c",
        "colab_type": "text"
      },
      "source": [
        "Get the model prediction from the LeNet network."
      ],
      "cell_type": "markdown"
    },
    {
      "metadata": {
        "id": "GQ46Dw7sG--d",
        "colab_type": "code",
        "colab": {
          "autoexec": {
            "startup": false,
            "wait_interval": 0
          }
        }
      },
      "source": [
        "predictions = lenet(images)"
      ],
      "cell_type": "code",
      "execution_count": 0,
      "outputs": []
    },
    {
      "metadata": {
        "id": "Ns0TMLReG--k",
        "colab_type": "text"
      },
      "source": [
        "Convert prediction values for each class into single class prediction which is the highest probability for that class."
      ],
      "cell_type": "markdown"
    },
    {
      "metadata": {
        "id": "Y95QANaLG--l",
        "colab_type": "code",
        "colab": {
          "autoexec": {
            "startup": false,
            "wait_interval": 0
          }
        }
      },
      "source": [
        "predictions = tf.to_int64(tf.argmax(predictions, 1))"
      ],
      "cell_type": "code",
      "execution_count": 0,
      "outputs": []
    },
    {
      "metadata": {
        "id": "lSUsNeVSG--n",
        "colab_type": "text"
      },
      "source": [
        "The accuracy is simply the % of correctly recognized digits. This is computed on the test set. You will see the values go up if the training goes well."
      ],
      "cell_type": "markdown"
    },
    {
      "metadata": {
        "id": "5DUsfjT-G--p",
        "colab_type": "code",
        "colab": {
          "autoexec": {
            "startup": false,
            "wait_interval": 0
          }
        }
      },
      "source": [
        "metrics_to_values, metrics_to_updates = metrics.aggregate_metric_map({\n",
        "    'mse': metrics.streaming_mean_squared_error(predictions, labels),\n",
        "    'accuracy': metrics.streaming_accuracy(predictions, labels),\n",
        "})"
      ],
      "cell_type": "code",
      "execution_count": 0,
      "outputs": []
    },
    {
      "metadata": {
        "id": "Qu_9tcvfG--t",
        "colab_type": "text"
      },
      "source": [
        "Write the metrics values as summaries to be plotted later. We will be plotting the online evolution of accuracy on trained model."
      ],
      "cell_type": "markdown"
    },
    {
      "metadata": {
        "id": "ksYJBlUxG--u",
        "colab_type": "code",
        "colab": {
          "autoexec": {
            "startup": false,
            "wait_interval": 0
          }
        }
      },
      "source": [
        "for metric_name, metric_value in metrics_to_values.iteritems():\n",
        "    tf.summary.scalar(metric_name, metric_value)"
      ],
      "cell_type": "code",
      "execution_count": 0,
      "outputs": []
    },
    {
      "metadata": {
        "id": "igzM9PMQG--z",
        "colab_type": "text"
      },
      "source": [
        "Having the instruction above, we are ready to launch the model evaluation. So, utilizing function `slim.evaluation.evaluation_loop` the checkpoints in the `checkpoint_dir` will run in a loop of evaluation with the time intervals of `eval_interval_secs`. Recall that we have specified the interval to be 60 seconds."
      ],
      "cell_type": "markdown"
    },
    {
      "metadata": {
        "id": "Kg4qu7NyG--0",
        "colab_type": "code",
        "colab": {
          "autoexec": {
            "startup": false,
            "wait_interval": 0
          },
          "output_extras": [
            {
              "item_id": 3
            },
            {
              "item_id": 6
            }
          ],
          "base_uri": "https://localhost:8080/",
          "height": 1890
        },
        "outputId": "27da455c-d2e9-4375-afac-889908b09714"
      },
      "source": [
        "slim.evaluation.evaluation_loop(\n",
        "    '',\n",
        "    FLAGS.checkpoint_dir,\n",
        "    FLAGS.log_dir,\n",
        "    num_evals=FLAGS.num_evals,\n",
        "    eval_op=metrics_to_updates.values(),\n",
        "    eval_interval_secs=FLAGS.eval_interval_secs)"
      ],
      "cell_type": "code",
      "execution_count": 0,
      "outputs": [
        {
          "output_type": "stream",
          "text": [
            "INFO:tensorflow:Waiting for new checkpoint at ./log/\n",
            "INFO:tensorflow:Found new checkpoint at ./log/model.ckpt-0\n",
            "WARNING:tensorflow:From /usr/local/lib/python2.7/dist-packages/tensorflow/contrib/training/python/training/evaluation.py:303: get_or_create_global_step (from tensorflow.contrib.framework.python.ops.variables) is deprecated and will be removed in a future version.\n",
            "Instructions for updating:\n",
            "Please switch to tf.train.get_or_create_global_step\n",
            "INFO:tensorflow:Restoring parameters from ./log/model.ckpt-0\n",
            "INFO:tensorflow:Starting evaluation at 2017-11-30-09:48:58\n",
            "INFO:tensorflow:Evaluation [1/100]\n",
            "INFO:tensorflow:Evaluation [2/100]\n",
            "INFO:tensorflow:Evaluation [3/100]\n",
            "INFO:tensorflow:Evaluation [4/100]\n",
            "INFO:tensorflow:Evaluation [5/100]\n",
            "INFO:tensorflow:Evaluation [6/100]\n",
            "INFO:tensorflow:Evaluation [7/100]\n",
            "INFO:tensorflow:Evaluation [8/100]\n",
            "INFO:tensorflow:Evaluation [9/100]\n",
            "INFO:tensorflow:Evaluation [10/100]\n",
            "INFO:tensorflow:Evaluation [11/100]\n",
            "INFO:tensorflow:Evaluation [12/100]\n",
            "INFO:tensorflow:Evaluation [13/100]\n",
            "INFO:tensorflow:Evaluation [14/100]\n",
            "INFO:tensorflow:Evaluation [15/100]\n",
            "INFO:tensorflow:Evaluation [16/100]\n",
            "INFO:tensorflow:Evaluation [17/100]\n",
            "INFO:tensorflow:Evaluation [18/100]\n",
            "INFO:tensorflow:Evaluation [19/100]\n",
            "INFO:tensorflow:Evaluation [20/100]\n",
            "INFO:tensorflow:Evaluation [21/100]\n",
            "INFO:tensorflow:Evaluation [22/100]\n",
            "INFO:tensorflow:Evaluation [23/100]\n",
            "INFO:tensorflow:Evaluation [24/100]\n",
            "INFO:tensorflow:Evaluation [25/100]\n",
            "INFO:tensorflow:Evaluation [26/100]\n",
            "INFO:tensorflow:Evaluation [27/100]\n",
            "INFO:tensorflow:Evaluation [28/100]\n",
            "INFO:tensorflow:Evaluation [29/100]\n",
            "INFO:tensorflow:Evaluation [30/100]\n",
            "INFO:tensorflow:Evaluation [31/100]\n",
            "INFO:tensorflow:Evaluation [32/100]\n",
            "INFO:tensorflow:Evaluation [33/100]\n",
            "INFO:tensorflow:Evaluation [34/100]\n",
            "INFO:tensorflow:Evaluation [35/100]\n",
            "INFO:tensorflow:Evaluation [36/100]\n",
            "INFO:tensorflow:Evaluation [37/100]\n",
            "INFO:tensorflow:Evaluation [38/100]\n",
            "INFO:tensorflow:Evaluation [39/100]\n",
            "INFO:tensorflow:Evaluation [40/100]\n",
            "INFO:tensorflow:Evaluation [41/100]\n",
            "INFO:tensorflow:Evaluation [42/100]\n",
            "INFO:tensorflow:Evaluation [43/100]\n",
            "INFO:tensorflow:Evaluation [44/100]\n",
            "INFO:tensorflow:Evaluation [45/100]\n",
            "INFO:tensorflow:Evaluation [46/100]\n",
            "INFO:tensorflow:Evaluation [47/100]\n",
            "INFO:tensorflow:Evaluation [48/100]\n",
            "INFO:tensorflow:Evaluation [49/100]\n",
            "INFO:tensorflow:Evaluation [50/100]\n",
            "INFO:tensorflow:Evaluation [51/100]\n",
            "INFO:tensorflow:Evaluation [52/100]\n",
            "INFO:tensorflow:Evaluation [53/100]\n",
            "INFO:tensorflow:Evaluation [54/100]\n",
            "INFO:tensorflow:Evaluation [55/100]\n",
            "INFO:tensorflow:Evaluation [56/100]\n",
            "INFO:tensorflow:Evaluation [57/100]\n",
            "INFO:tensorflow:Evaluation [58/100]\n",
            "INFO:tensorflow:Evaluation [59/100]\n"
          ],
          "name": "stdout"
        },
        {
          "output_type": "stream",
          "text": [
            "INFO:tensorflow:Evaluation [60/100]\n",
            "INFO:tensorflow:Evaluation [61/100]\n",
            "INFO:tensorflow:Evaluation [62/100]\n",
            "INFO:tensorflow:Evaluation [63/100]\n",
            "INFO:tensorflow:Evaluation [64/100]\n",
            "INFO:tensorflow:Evaluation [65/100]\n",
            "INFO:tensorflow:Evaluation [66/100]\n",
            "INFO:tensorflow:Evaluation [67/100]\n",
            "INFO:tensorflow:Evaluation [68/100]\n",
            "INFO:tensorflow:Evaluation [69/100]\n",
            "INFO:tensorflow:Evaluation [70/100]\n",
            "INFO:tensorflow:Evaluation [71/100]\n",
            "INFO:tensorflow:Evaluation [72/100]\n",
            "INFO:tensorflow:Evaluation [73/100]\n",
            "INFO:tensorflow:Evaluation [74/100]\n",
            "INFO:tensorflow:Evaluation [75/100]\n",
            "INFO:tensorflow:Evaluation [76/100]\n",
            "INFO:tensorflow:Evaluation [77/100]\n",
            "INFO:tensorflow:Evaluation [78/100]\n",
            "INFO:tensorflow:Evaluation [79/100]\n",
            "INFO:tensorflow:Evaluation [80/100]\n",
            "INFO:tensorflow:Evaluation [81/100]\n",
            "INFO:tensorflow:Evaluation [82/100]\n",
            "INFO:tensorflow:Evaluation [83/100]\n",
            "INFO:tensorflow:Evaluation [84/100]\n",
            "INFO:tensorflow:Evaluation [85/100]\n",
            "INFO:tensorflow:Evaluation [86/100]\n",
            "INFO:tensorflow:Evaluation [87/100]\n",
            "INFO:tensorflow:Evaluation [88/100]\n",
            "INFO:tensorflow:Evaluation [89/100]\n",
            "INFO:tensorflow:Evaluation [90/100]\n",
            "INFO:tensorflow:Evaluation [91/100]\n",
            "INFO:tensorflow:Evaluation [92/100]\n",
            "INFO:tensorflow:Evaluation [93/100]\n",
            "INFO:tensorflow:Evaluation [94/100]\n",
            "INFO:tensorflow:Evaluation [95/100]\n",
            "INFO:tensorflow:Evaluation [96/100]\n",
            "INFO:tensorflow:Evaluation [97/100]\n",
            "INFO:tensorflow:Evaluation [98/100]\n",
            "INFO:tensorflow:Evaluation [99/100]\n",
            "INFO:tensorflow:Evaluation [100/100]\n",
            "INFO:tensorflow:Finished evaluation at 2017-11-30-09:48:59\n",
            "INFO:tensorflow:Waiting for new checkpoint at ./log/\n"
          ],
          "name": "stdout"
        }
      ]
    },
    {
      "metadata": {
        "id": "eiHRPXS3G--_",
        "colab_type": "code",
        "colab": {
          "autoexec": {
            "startup": false,
            "wait_interval": 0
          }
        }
      },
      "source": [
        ""
      ],
      "cell_type": "code",
      "execution_count": 0,
      "outputs": []
    }
  ]
}