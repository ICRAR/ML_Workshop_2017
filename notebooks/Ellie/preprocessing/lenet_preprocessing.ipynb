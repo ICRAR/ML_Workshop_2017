{
 "cells": [
  {
   "cell_type": "code",
   "execution_count": null,
   "metadata": {
    "collapsed": true
   },
   "outputs": [],
   "source": [
    "# Copyright 2016 The TensorFlow Authors. All Rights Reserved.\n",
    "#\n",
    "# Licensed under the Apache License, Version 2.0 (the \"License\");\n",
    "# you may not use this file except in compliance with the License.\n",
    "# You may obtain a copy of the License at\n",
    "#\n",
    "# http://www.apache.org/licenses/LICENSE-2.0\n",
    "#\n",
    "# Unless required by applicable law or agreed to in writing, software\n",
    "# distributed under the License is distributed on an \"AS IS\" BASIS,\n",
    "# WITHOUT WARRANTIES OR CONDITIONS OF ANY KIND, either express or implied.\n",
    "# See the License for the specific language governing permissions and\n",
    "# limitations under the License.\n",
    "# ==============================================================================\n",
    "\"\"\"Provides utilities for preprocessing.\"\"\"\n",
    "\n",
    "from __future__ import absolute_import\n",
    "from __future__ import division\n",
    "from __future__ import print_function\n",
    "\n",
    "import tensorflow as tf\n",
    "\n",
    "slim = tf.contrib.slim\n",
    "\n",
    "\n",
    "def preprocess_image(image, output_height, output_width, is_training):\n",
    "  \"\"\"Preprocesses the given image.\n",
    "\n",
    "  Args:\n",
    "    image: A `Tensor` representing an image of arbitrary size.\n",
    "    output_height: The height of the image after preprocessing.\n",
    "    output_width: The width of the image after preprocessing.\n",
    "    is_training: `True` if we're preprocessing the image for training and\n",
    "      `False` otherwise.\n",
    "\n",
    "  Returns:\n",
    "    A preprocessed image.\n",
    "  \"\"\"\n",
    "  image = tf.to_float(image)\n",
    "  image = tf.image.resize_image_with_crop_or_pad(\n",
    "      image, output_width, output_height)\n",
    "  image = tf.subtract(image, 128.0)\n",
    "  image = tf.div(image, 128.0)\n",
    "  return image\n",
    "\n"
   ]
  }
 ],
 "metadata": {
  "kernelspec": {
   "display_name": "Python 2",
   "language": "python",
   "name": "python2"
  },
  "language_info": {
   "codemirror_mode": {
    "name": "ipython",
    "version": 2
   },
   "file_extension": ".py",
   "mimetype": "text/x-python",
   "name": "python",
   "nbconvert_exporter": "python",
   "pygments_lexer": "ipython2",
   "version": "2.7.14"
  }
 },
 "nbformat": 4,
 "nbformat_minor": 2
}
