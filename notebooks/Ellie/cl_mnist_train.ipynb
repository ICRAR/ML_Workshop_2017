{
  "nbformat": 4,
  "nbformat_minor": 0,
  "metadata": {
    "colab": {
      "name": "mnist_train.ipynb",
      "version": "0.3.2",
      "views": {},
      "default_view": {},
      "provenance": []
    },
    "kernelspec": {
      "display_name": "Python 2",
      "language": "python",
      "name": "python2"
    }
  },
  "cells": [
    {
      "metadata": {
        "id": "fzDQO5Wtt_A6",
        "colab_type": "text"
      },
      "source": [
        "# Training Process\n",
        "\n",
        "In this section, I will tell you how to build and train a neural network which recognizes handwritten digits. We use the MNIST dataset which is a collection of a training set of 60,000 examples, and a test set of 10,000 examples. It is a good database for those who like to try learning techniques and pattern recognition methods on real-world data while spending minimal efforts on preprocessing and formatting. We will be solving this classification problem with less than 120 lines of Python / TensorFlow / TF-Slim codes.\n",
        "\n",
        "Our neural network takes in handwritten digits and classifies them, i.e. states if it recognizes them as a 0, a 1, a 2 and so on up to a 9. Each image in the MNIST dataset is a 28x28 pixel greyscale image.\n",
        "\n",
        "Below is our main code for training the data. I have tried to make it as short and clear as possible. In this workshop, we will be using LeNet as the network. \n",
        "\n",
        "So, here we go.\n",
        "\n",
        "First of all, let's import our required modules. We need to import Tensorflow as the main platform. We also import `MNIST` which is the module for reading data in our desired fashion as well as `load_batch` that loads the data in batches of favorable size. The latter helps to not to go beyond our memory and computational facilities.  \n"
      ],
      "cell_type": "markdown"
    },
    {
      "metadata": {
        "id": "2YuOTW2g5AFI",
        "colab_type": "code",
        "colab": {
          "autoexec": {
            "startup": false,
            "wait_interval": 0
          },
          "output_extras": [
            {
              "item_id": 26
            },
            {
              "item_id": 52
            },
            {
              "item_id": 77
            },
            {
              "item_id": 101
            }
          ],
          "base_uri": "https://localhost:8080/",
          "height": 9010
        },
        "outputId": "75e5cfdf-18c0-462a-dd67-96176e24c670",
        "executionInfo": {
          "status": "ok",
          "timestamp": 1512032184219,
          "user_tz": -480,
          "elapsed": 36807,
          "user": {
            "displayName": "Richard Dodson",
            "photoUrl": "//lh5.googleusercontent.com/-f94LMF0bnco/AAAAAAAAAAI/AAAAAAAAAAA/tc5rhyC858Q/s50-c-k-no/photo.jpg",
            "userId": "118150954080456640081"
          }
        }
      },
      "source": [
        "!git clone https://github.com/ICRAR/ML_Workshop_2017.git\n"
        "!cp -r ML_Workshop_2017/notebooks/Ellie/* .\n"
        "!ls -R\n"
      ],
      "cell_type": "code",
      "execution_count": 1,
      "outputs": [
        {
          "output_type": "stream",
          "text": [
            "--2017-11-30 08:55:47--  http://ict.icrar.org/store/staff/rdodson/ML_WS/Ellie\r\n",
            "Resolving ict.icrar.org (ict.icrar.org)... 130.95.227.213\n",
            "Connecting to ict.icrar.org (ict.icrar.org)|130.95.227.213|:80... connected.\n",
            "HTTP request sent, awaiting response... 301 Moved Permanently\n",
            "Location: http://ict.icrar.org/store/staff/rdodson/ML_WS/Ellie/ [following]\n",
            "--2017-11-30 08:55:48--  http://ict.icrar.org/store/staff/rdodson/ML_WS/Ellie/\n",
            "Connecting to ict.icrar.org (ict.icrar.org)|130.95.227.213|:80... connected.\n",
            "HTTP request sent, awaiting response... 200 OK\n",
            "Length: 2183 (2.1K) [text/html]\n",
            "Saving to: ‘ict.icrar.org/store/staff/rdodson/ML_WS/Ellie.1’\n",
            "\n",
            "ict.icrar.org/store 100%[===================>]   2.13K  --.-KB/s    in 0s      \n",
            "\n",
            "2017-11-30 08:55:48 (263 MB/s) - ‘ict.icrar.org/store/staff/rdodson/ML_WS/Ellie.1’ saved [2183/2183]\n",
            "\n",
            "Loading robots.txt; please ignore errors.\n",
            "--2017-11-30 08:55:48--  http://ict.icrar.org/robots.txt\n",
            "Connecting to ict.icrar.org (ict.icrar.org)|130.95.227.213|:80... connected.\n",
            "HTTP request sent, awaiting response... 404 Not Found\n",
            "2017-11-30 08:55:49 ERROR 404: Not Found.\n",
            "\n",
            "--2017-11-30 08:55:49--  http://ict.icrar.org/store/staff/rdodson/ML_WS/Ellie/?C=N;O=D\n",
            "Connecting to ict.icrar.org (ict.icrar.org)|130.95.227.213|:80... connected.\n",
            "HTTP request sent, awaiting response... 416 Requested Range Not Satisfiable\n",
            "\n",
            "    The file is already fully retrieved; nothing to do.\n",
            "\n",
            "--2017-11-30 08:55:50--  http://ict.icrar.org/store/staff/rdodson/ML_WS/Ellie/?C=M;O=A\n",
            "Connecting to ict.icrar.org (ict.icrar.org)|130.95.227.213|:80... connected.\n",
            "HTTP request sent, awaiting response... 416 Requested Range Not Satisfiable\n",
            "\n",
            "    The file is already fully retrieved; nothing to do.\n",
            "\n",
            "--2017-11-30 08:55:50--  http://ict.icrar.org/store/staff/rdodson/ML_WS/Ellie/?C=S;O=A\n",
            "Connecting to ict.icrar.org (ict.icrar.org)|130.95.227.213|:80... connected.\n",
            "HTTP request sent, awaiting response... 416 Requested Range Not Satisfiable\n",
            "\n",
            "    The file is already fully retrieved; nothing to do.\n",
            "\n",
            "--2017-11-30 08:55:51--  http://ict.icrar.org/store/staff/rdodson/ML_WS/Ellie/?C=D;O=A\n",
            "Connecting to ict.icrar.org (ict.icrar.org)|130.95.227.213|:80... connected.\n",
            "HTTP request sent, awaiting response... 416 Requested Range Not Satisfiable\n",
            "\n",
            "    The file is already fully retrieved; nothing to do.\n",
            "\n",
            "--2017-11-30 08:55:51--  http://ict.icrar.org/store/staff/rdodson/ML_WS/\n",
            "Connecting to ict.icrar.org (ict.icrar.org)|130.95.227.213|:80... connected.\n",
            "HTTP request sent, awaiting response... 416 Requested Range Not Satisfiable\n",
            "\n",
            "    The file is already fully retrieved; nothing to do.\n",
            "\n",
            "--2017-11-30 08:55:52--  http://ict.icrar.org/store/staff/rdodson/ML_WS/Ellie/data/\n",
            "Connecting to ict.icrar.org (ict.icrar.org)|130.95.227.213|:80... connected.\n",
            "HTTP request sent, awaiting response... 416 Requested Range Not Satisfiable\n",
            "\n",
            "    The file is already fully retrieved; nothing to do.\n",
            "\n",
            "--2017-11-30 08:55:52--  http://ict.icrar.org/store/staff/rdodson/ML_WS/Ellie/datasets/\n",
            "Connecting to ict.icrar.org (ict.icrar.org)|130.95.227.213|:80... connected.\n",
            "HTTP request sent, awaiting response... 416 Requested Range Not Satisfiable\n",
            "\n",
            "    The file is already fully retrieved; nothing to do.\n",
            "\n",
            "--2017-11-30 08:55:53--  http://ict.icrar.org/store/staff/rdodson/ML_WS/Ellie/log/\n",
            "Connecting to ict.icrar.org (ict.icrar.org)|130.95.227.213|:80... connected.\n",
            "HTTP request sent, awaiting response... 416 Requested Range Not Satisfiable\n",
            "\n",
            "    The file is already fully retrieved; nothing to do.\n",
            "\n",
            "--2017-11-30 08:55:53--  http://ict.icrar.org/store/staff/rdodson/ML_WS/Ellie/mnist_eval.ipynb\n",
            "Connecting to ict.icrar.org (ict.icrar.org)|130.95.227.213|:80... connected.\n",
            "HTTP request sent, awaiting response... 416 Requested Range Not Satisfiable\n",
            "\n",
            "    The file is already fully retrieved; nothing to do.\n",
            "\n",
            "--2017-11-30 08:55:54--  http://ict.icrar.org/store/staff/rdodson/ML_WS/Ellie/mnist_train.ipynb\n",
            "Connecting to ict.icrar.org (ict.icrar.org)|130.95.227.213|:80... connected.\n",
            "HTTP request sent, awaiting response... 416 Requested Range Not Satisfiable\n",
            "\n",
            "    The file is already fully retrieved; nothing to do.\n",
            "\n",
            "--2017-11-30 08:55:54--  http://ict.icrar.org/store/staff/rdodson/ML_WS/Ellie/model.py\n",
            "Connecting to ict.icrar.org (ict.icrar.org)|130.95.227.213|:80... connected.\n",
            "HTTP request sent, awaiting response... 416 Requested Range Not Satisfiable\n",
            "\n",
            "    The file is already fully retrieved; nothing to do.\n",
            "\n",
            "--2017-11-30 08:55:55--  http://ict.icrar.org/store/staff/rdodson/ML_WS/Ellie/preprocessing/\n",
            "Connecting to ict.icrar.org (ict.icrar.org)|130.95.227.213|:80... connected.\n",
            "HTTP request sent, awaiting response... 416 Requested Range Not Satisfiable\n",
            "\n",
            "    The file is already fully retrieved; nothing to do.\n",
            "\n",
            "--2017-11-30 08:55:55--  http://ict.icrar.org/store/staff/rdodson/ML_WS/Ellie/?C=N;O=A\n",
            "Connecting to ict.icrar.org (ict.icrar.org)|130.95.227.213|:80... connected.\n",
            "HTTP request sent, awaiting response... 416 Requested Range Not Satisfiable\n",
            "\n",
            "    The file is already fully retrieved; nothing to do.\n",
            "\n",
            "--2017-11-30 08:55:56--  http://ict.icrar.org/store/staff/rdodson/ML_WS/Ellie/?C=M;O=D\n",
            "Connecting to ict.icrar.org (ict.icrar.org)|130.95.227.213|:80... connected.\n",
            "HTTP request sent, awaiting response... 416 Requested Range Not Satisfiable\n",
            "\n",
            "    The file is already fully retrieved; nothing to do.\n",
            "\n",
            "--2017-11-30 08:55:56--  http://ict.icrar.org/store/staff/rdodson/ML_WS/Ellie/?C=S;O=D\n",
            "Connecting to ict.icrar.org (ict.icrar.org)|130.95.227.213|:80... "
          ],
          "name": "stdout"
        },
        {
          "output_type": "stream",
          "text": [
            "connected.\n",
            "HTTP request sent, awaiting response... 416 Requested Range Not Satisfiable\n",
            "\n",
            "    The file is already fully retrieved; nothing to do.\n",
            "\n",
            "--2017-11-30 08:55:57--  http://ict.icrar.org/store/staff/rdodson/ML_WS/Ellie/?C=D;O=D\n",
            "Connecting to ict.icrar.org (ict.icrar.org)|130.95.227.213|:80... connected.\n",
            "HTTP request sent, awaiting response... 416 Requested Range Not Satisfiable\n",
            "\n",
            "    The file is already fully retrieved; nothing to do.\n",
            "\n",
            "--2017-11-30 08:55:57--  http://ict.icrar.org/store/staff/rdodson/ML_WS/?C=N;O=D\n",
            "Connecting to ict.icrar.org (ict.icrar.org)|130.95.227.213|:80... connected.\n",
            "HTTP request sent, awaiting response... 416 Requested Range Not Satisfiable\n",
            "\n",
            "    The file is already fully retrieved; nothing to do.\n",
            "\n",
            "--2017-11-30 08:55:58--  http://ict.icrar.org/store/staff/rdodson/ML_WS/?C=M;O=A\n",
            "Connecting to ict.icrar.org (ict.icrar.org)|130.95.227.213|:80... connected.\n",
            "HTTP request sent, awaiting response... 416 Requested Range Not Satisfiable\n",
            "\n",
            "    The file is already fully retrieved; nothing to do.\n",
            "\n",
            "--2017-11-30 08:55:58--  http://ict.icrar.org/store/staff/rdodson/ML_WS/?C=S;O=A\n",
            "Connecting to ict.icrar.org (ict.icrar.org)|130.95.227.213|:80... connected.\n",
            "HTTP request sent, awaiting response... 416 Requested Range Not Satisfiable\n",
            "\n",
            "    The file is already fully retrieved; nothing to do.\n",
            "\n",
            "--2017-11-30 08:55:59--  http://ict.icrar.org/store/staff/rdodson/ML_WS/?C=D;O=A\n",
            "Connecting to ict.icrar.org (ict.icrar.org)|130.95.227.213|:80... connected.\n",
            "HTTP request sent, awaiting response... 416 Requested Range Not Satisfiable\n",
            "\n",
            "    The file is already fully retrieved; nothing to do.\n",
            "\n",
            "--2017-11-30 08:55:59--  http://ict.icrar.org/store/staff/rdodson/ML_WS/colab_req.txt\n",
            "Connecting to ict.icrar.org (ict.icrar.org)|130.95.227.213|:80... connected.\n",
            "HTTP request sent, awaiting response... 416 Requested Range Not Satisfiable\n",
            "\n",
            "    The file is already fully retrieved; nothing to do.\n",
            "\n",
            "--2017-11-30 08:56:00--  http://ict.icrar.org/store/staff/rdodson/ML_WS/Ellie/data/?C=N;O=D\n",
            "Connecting to ict.icrar.org (ict.icrar.org)|130.95.227.213|:80... connected.\n",
            "HTTP request sent, awaiting response... 416 Requested Range Not Satisfiable\n",
            "\n",
            "    The file is already fully retrieved; nothing to do.\n",
            "\n",
            "--2017-11-30 08:56:00--  http://ict.icrar.org/store/staff/rdodson/ML_WS/Ellie/data/?C=M;O=A\n",
            "Connecting to ict.icrar.org (ict.icrar.org)|130.95.227.213|:80... connected.\n",
            "HTTP request sent, awaiting response... 416 Requested Range Not Satisfiable\n",
            "\n",
            "    The file is already fully retrieved; nothing to do.\n",
            "\n",
            "--2017-11-30 08:56:01--  http://ict.icrar.org/store/staff/rdodson/ML_WS/Ellie/data/?C=S;O=A\n",
            "Connecting to ict.icrar.org (ict.icrar.org)|130.95.227.213|:80... connected.\n",
            "HTTP request sent, awaiting response... 416 Requested Range Not Satisfiable\n",
            "\n",
            "    The file is already fully retrieved; nothing to do.\n",
            "\n",
            "--2017-11-30 08:56:01--  http://ict.icrar.org/store/staff/rdodson/ML_WS/Ellie/data/?C=D;O=A\n",
            "Connecting to ict.icrar.org (ict.icrar.org)|130.95.227.213|:80... connected.\n",
            "HTTP request sent, awaiting response... 416 Requested Range Not Satisfiable\n",
            "\n",
            "    The file is already fully retrieved; nothing to do.\n",
            "\n",
            "--2017-11-30 08:56:02--  http://ict.icrar.org/store/staff/rdodson/ML_WS/Ellie/data/mnist_test.tfrecord\n",
            "Connecting to ict.icrar.org (ict.icrar.org)|130.95.227.213|:80... connected.\n",
            "HTTP request sent, awaiting response... 416 Requested Range Not Satisfiable\n",
            "\n",
            "    The file is already fully retrieved; nothing to do.\n",
            "\n",
            "--2017-11-30 08:56:02--  http://ict.icrar.org/store/staff/rdodson/ML_WS/Ellie/data/mnist_train.tfrecord\n",
            "Connecting to ict.icrar.org (ict.icrar.org)|130.95.227.213|:80... connected.\n",
            "HTTP request sent, awaiting response... 416 Requested Range Not Satisfiable\n",
            "\n",
            "    The file is already fully retrieved; nothing to do.\n",
            "\n",
            "--2017-11-30 08:56:03--  http://ict.icrar.org/store/staff/rdodson/ML_WS/Ellie/datasets/?C=N;O=D\n",
            "Connecting to ict.icrar.org (ict.icrar.org)|130.95.227.213|:80... connected.\n",
            "HTTP request sent, awaiting response... 416 Requested Range Not Satisfiable\n",
            "\n",
            "    The file is already fully retrieved; nothing to do.\n",
            "\n",
            "--2017-11-30 08:56:03--  http://ict.icrar.org/store/staff/rdodson/ML_WS/Ellie/datasets/?C=M;O=A\n",
            "Connecting to ict.icrar.org (ict.icrar.org)|130.95.227.213|:80... connected.\n",
            "HTTP request sent, awaiting response... 416 Requested Range Not Satisfiable\n",
            "\n",
            "    The file is already fully retrieved; nothing to do.\n",
            "\n",
            "--2017-11-30 08:56:04--  http://ict.icrar.org/store/staff/rdodson/ML_WS/Ellie/datasets/?C=S;O=A\n",
            "Connecting to ict.icrar.org (ict.icrar.org)|130.95.227.213|:80... connected.\n",
            "HTTP request sent, awaiting response... 416 Requested Range Not Satisfiable\n",
            "\n",
            "    The file is already fully retrieved; nothing to do.\n",
            "\n",
            "--2017-11-30 08:56:04--  http://ict.icrar.org/store/staff/rdodson/ML_WS/Ellie/datasets/?C=D;O=A\n",
            "Connecting to ict.icrar.org (ict.icrar.org)|130.95.227.213|:80... connected.\n",
            "HTTP request sent, awaiting response... 416 Requested Range Not Satisfiable\n",
            "\n",
            "    The file is already fully retrieved; nothing to do.\n",
            "\n",
            "--2017-11-30 08:56:05--  http://ict.icrar.org/store/staff/rdodson/ML_WS/Ellie/datasets/__init__.py\n",
            "Connecting to ict.icrar.org (ict.icrar.org)|130.95.227.213|:80... connected.\n",
            "HTTP request sent, awaiting response... 416 Requested Range Not Satisfiable\n",
            "\n",
            "    The file is already fully retrieved; nothing to do.\n",
            "\n",
            "--2017-11-30 08:56:05--  http://ict.icrar.org/store/staff/rdodson/ML_WS/Ellie/datasets/dataset_utils.py\n",
            "Connecting to ict.icrar.org (ict.icrar.org)|130.95.227.213|:80... "
          ],
          "name": "stdout"
        },
        {
          "output_type": "stream",
          "text": [
            "connected.\n",
            "HTTP request sent, awaiting response... 416 Requested Range Not Satisfiable\n",
            "\n",
            "    The file is already fully retrieved; nothing to do.\n",
            "\n",
            "--2017-11-30 08:56:06--  http://ict.icrar.org/store/staff/rdodson/ML_WS/Ellie/datasets/download_and_convert_mnist.py\n",
            "Connecting to ict.icrar.org (ict.icrar.org)|130.95.227.213|:80... connected.\n",
            "HTTP request sent, awaiting response... 416 Requested Range Not Satisfiable\n",
            "\n",
            "    The file is already fully retrieved; nothing to do.\n",
            "\n",
            "--2017-11-30 08:56:06--  http://ict.icrar.org/store/staff/rdodson/ML_WS/Ellie/datasets/mnist.py\n",
            "Connecting to ict.icrar.org (ict.icrar.org)|130.95.227.213|:80... connected.\n",
            "HTTP request sent, awaiting response... 416 Requested Range Not Satisfiable\n",
            "\n",
            "    The file is already fully retrieved; nothing to do.\n",
            "\n",
            "--2017-11-30 08:56:07--  http://ict.icrar.org/store/staff/rdodson/ML_WS/Ellie/log/?C=N;O=D\n",
            "Connecting to ict.icrar.org (ict.icrar.org)|130.95.227.213|:80... connected.\n",
            "HTTP request sent, awaiting response... 416 Requested Range Not Satisfiable\n",
            "\n",
            "    The file is already fully retrieved; nothing to do.\n",
            "\n",
            "--2017-11-30 08:56:07--  http://ict.icrar.org/store/staff/rdodson/ML_WS/Ellie/log/?C=M;O=A\n",
            "Connecting to ict.icrar.org (ict.icrar.org)|130.95.227.213|:80... connected.\n",
            "HTTP request sent, awaiting response... 416 Requested Range Not Satisfiable\n",
            "\n",
            "    The file is already fully retrieved; nothing to do.\n",
            "\n",
            "--2017-11-30 08:56:08--  http://ict.icrar.org/store/staff/rdodson/ML_WS/Ellie/log/?C=S;O=A\n",
            "Connecting to ict.icrar.org (ict.icrar.org)|130.95.227.213|:80... connected.\n",
            "HTTP request sent, awaiting response... 416 Requested Range Not Satisfiable\n",
            "\n",
            "    The file is already fully retrieved; nothing to do.\n",
            "\n",
            "--2017-11-30 08:56:08--  http://ict.icrar.org/store/staff/rdodson/ML_WS/Ellie/log/?C=D;O=A\n",
            "Connecting to ict.icrar.org (ict.icrar.org)|130.95.227.213|:80... connected.\n",
            "HTTP request sent, awaiting response... 416 Requested Range Not Satisfiable\n",
            "\n",
            "    The file is already fully retrieved; nothing to do.\n",
            "\n",
            "--2017-11-30 08:56:09--  http://ict.icrar.org/store/staff/rdodson/ML_WS/Ellie/log/desc\n",
            "Connecting to ict.icrar.org (ict.icrar.org)|130.95.227.213|:80... connected.\n",
            "HTTP request sent, awaiting response... 416 Requested Range Not Satisfiable\n",
            "\n",
            "    The file is already fully retrieved; nothing to do.\n",
            "\n",
            "--2017-11-30 08:56:09--  http://ict.icrar.org/store/staff/rdodson/ML_WS/Ellie/preprocessing/?C=N;O=D\n",
            "Connecting to ict.icrar.org (ict.icrar.org)|130.95.227.213|:80... connected.\n",
            "HTTP request sent, awaiting response... 416 Requested Range Not Satisfiable\n",
            "\n",
            "    The file is already fully retrieved; nothing to do.\n",
            "\n",
            "--2017-11-30 08:56:10--  http://ict.icrar.org/store/staff/rdodson/ML_WS/Ellie/preprocessing/?C=M;O=A\n",
            "Connecting to ict.icrar.org (ict.icrar.org)|130.95.227.213|:80... connected.\n",
            "HTTP request sent, awaiting response... 416 Requested Range Not Satisfiable\n",
            "\n",
            "    The file is already fully retrieved; nothing to do.\n",
            "\n",
            "--2017-11-30 08:56:10--  http://ict.icrar.org/store/staff/rdodson/ML_WS/Ellie/preprocessing/?C=S;O=A\n",
            "Connecting to ict.icrar.org (ict.icrar.org)|130.95.227.213|:80... connected.\n",
            "HTTP request sent, awaiting response... 416 Requested Range Not Satisfiable\n",
            "\n",
            "    The file is already fully retrieved; nothing to do.\n",
            "\n",
            "--2017-11-30 08:56:11--  http://ict.icrar.org/store/staff/rdodson/ML_WS/Ellie/preprocessing/?C=D;O=A\n",
            "Connecting to ict.icrar.org (ict.icrar.org)|130.95.227.213|:80... connected.\n",
            "HTTP request sent, awaiting response... 416 Requested Range Not Satisfiable\n",
            "\n",
            "    The file is already fully retrieved; nothing to do.\n",
            "\n",
            "--2017-11-30 08:56:11--  http://ict.icrar.org/store/staff/rdodson/ML_WS/Ellie/preprocessing/__init__.py\n",
            "Connecting to ict.icrar.org (ict.icrar.org)|130.95.227.213|:80... connected.\n",
            "HTTP request sent, awaiting response... 416 Requested Range Not Satisfiable\n",
            "\n",
            "    The file is already fully retrieved; nothing to do.\n",
            "\n",
            "--2017-11-30 08:56:12--  http://ict.icrar.org/store/staff/rdodson/ML_WS/Ellie/preprocessing/lenet_preprocessing.py\n",
            "Connecting to ict.icrar.org (ict.icrar.org)|130.95.227.213|:80... connected.\n",
            "HTTP request sent, awaiting response... 416 Requested Range Not Satisfiable\n",
            "\n",
            "    The file is already fully retrieved; nothing to do.\n",
            "\n",
            "--2017-11-30 08:56:12--  http://ict.icrar.org/store/staff/rdodson/ML_WS/?C=N;O=A\n",
            "Connecting to ict.icrar.org (ict.icrar.org)|130.95.227.213|:80... connected.\n",
            "HTTP request sent, awaiting response... 416 Requested Range Not Satisfiable\n",
            "\n",
            "    The file is already fully retrieved; nothing to do.\n",
            "\n",
            "--2017-11-30 08:56:13--  http://ict.icrar.org/store/staff/rdodson/ML_WS/?C=M;O=D\n",
            "Connecting to ict.icrar.org (ict.icrar.org)|130.95.227.213|:80... connected.\n",
            "HTTP request sent, awaiting response... 416 Requested Range Not Satisfiable\n",
            "\n",
            "    The file is already fully retrieved; nothing to do.\n",
            "\n",
            "--2017-11-30 08:56:13--  http://ict.icrar.org/store/staff/rdodson/ML_WS/?C=S;O=D\n",
            "Connecting to ict.icrar.org (ict.icrar.org)|130.95.227.213|:80... connected.\n",
            "HTTP request sent, awaiting response... 416 Requested Range Not Satisfiable\n",
            "\n",
            "    The file is already fully retrieved; nothing to do.\n",
            "\n",
            "--2017-11-30 08:56:14--  http://ict.icrar.org/store/staff/rdodson/ML_WS/?C=D;O=D\n",
            "Connecting to ict.icrar.org (ict.icrar.org)|130.95.227.213|:80... connected.\n",
            "HTTP request sent, awaiting response... "
          ],
          "name": "stdout"
        },
        {
          "output_type": "stream",
          "text": [
            "416 Requested Range Not Satisfiable\r\n",
            "\r\n",
            "    The file is already fully retrieved; nothing to do.\r\n",
            "\r\n",
            "--2017-11-30 08:56:14--  http://ict.icrar.org/store/staff/rdodson/ML_WS/Ellie/data/?C=N;O=A\n",
            "Connecting to ict.icrar.org (ict.icrar.org)|130.95.227.213|:80... connected.\n",
            "HTTP request sent, awaiting response... 416 Requested Range Not Satisfiable\n",
            "\n",
            "    The file is already fully retrieved; nothing to do.\n",
            "\n",
            "--2017-11-30 08:56:15--  http://ict.icrar.org/store/staff/rdodson/ML_WS/Ellie/data/?C=M;O=D\n",
            "Connecting to ict.icrar.org (ict.icrar.org)|130.95.227.213|:80... connected.\n",
            "HTTP request sent, awaiting response... 416 Requested Range Not Satisfiable\n",
            "\n",
            "    The file is already fully retrieved; nothing to do.\n",
            "\n",
            "--2017-11-30 08:56:15--  http://ict.icrar.org/store/staff/rdodson/ML_WS/Ellie/data/?C=S;O=D\n",
            "Connecting to ict.icrar.org (ict.icrar.org)|130.95.227.213|:80... connected.\n",
            "HTTP request sent, awaiting response... 416 Requested Range Not Satisfiable\n",
            "\n",
            "    The file is already fully retrieved; nothing to do.\n",
            "\n",
            "--2017-11-30 08:56:16--  http://ict.icrar.org/store/staff/rdodson/ML_WS/Ellie/data/?C=D;O=D\n",
            "Connecting to ict.icrar.org (ict.icrar.org)|130.95.227.213|:80... connected.\n",
            "HTTP request sent, awaiting response... 416 Requested Range Not Satisfiable\n",
            "\n",
            "    The file is already fully retrieved; nothing to do.\n",
            "\n",
            "--2017-11-30 08:56:16--  http://ict.icrar.org/store/staff/rdodson/ML_WS/Ellie/datasets/?C=N;O=A\n",
            "Connecting to ict.icrar.org (ict.icrar.org)|130.95.227.213|:80... connected.\n",
            "HTTP request sent, awaiting response... 416 Requested Range Not Satisfiable\n",
            "\n",
            "    The file is already fully retrieved; nothing to do.\n",
            "\n",
            "--2017-11-30 08:56:17--  http://ict.icrar.org/store/staff/rdodson/ML_WS/Ellie/datasets/?C=M;O=D\n",
            "Connecting to ict.icrar.org (ict.icrar.org)|130.95.227.213|:80... connected.\n",
            "HTTP request sent, awaiting response... 416 Requested Range Not Satisfiable\n",
            "\n",
            "    The file is already fully retrieved; nothing to do.\n",
            "\n",
            "--2017-11-30 08:56:17--  http://ict.icrar.org/store/staff/rdodson/ML_WS/Ellie/datasets/?C=S;O=D\n",
            "Connecting to ict.icrar.org (ict.icrar.org)|130.95.227.213|:80... connected.\n",
            "HTTP request sent, awaiting response... 416 Requested Range Not Satisfiable\n",
            "\n",
            "    The file is already fully retrieved; nothing to do.\n",
            "\n",
            "--2017-11-30 08:56:18--  http://ict.icrar.org/store/staff/rdodson/ML_WS/Ellie/datasets/?C=D;O=D\n",
            "Connecting to ict.icrar.org (ict.icrar.org)|130.95.227.213|:80... connected.\n",
            "HTTP request sent, awaiting response... 416 Requested Range Not Satisfiable\n",
            "\n",
            "    The file is already fully retrieved; nothing to do.\n",
            "\n",
            "--2017-11-30 08:56:18--  http://ict.icrar.org/store/staff/rdodson/ML_WS/Ellie/log/?C=N;O=A\n",
            "Connecting to ict.icrar.org (ict.icrar.org)|130.95.227.213|:80... connected.\n",
            "HTTP request sent, awaiting response... 416 Requested Range Not Satisfiable\n",
            "\n",
            "    The file is already fully retrieved; nothing to do.\n",
            "\n",
            "--2017-11-30 08:56:19--  http://ict.icrar.org/store/staff/rdodson/ML_WS/Ellie/log/?C=M;O=D\n",
            "Connecting to ict.icrar.org (ict.icrar.org)|130.95.227.213|:80... connected.\n",
            "HTTP request sent, awaiting response... 416 Requested Range Not Satisfiable\n",
            "\n",
            "    The file is already fully retrieved; nothing to do.\n",
            "\n",
            "--2017-11-30 08:56:19--  http://ict.icrar.org/store/staff/rdodson/ML_WS/Ellie/log/?C=S;O=D\n",
            "Connecting to ict.icrar.org (ict.icrar.org)|130.95.227.213|:80... connected.\n",
            "HTTP request sent, awaiting response... 416 Requested Range Not Satisfiable\n",
            "\n",
            "    The file is already fully retrieved; nothing to do.\n",
            "\n",
            "--2017-11-30 08:56:20--  http://ict.icrar.org/store/staff/rdodson/ML_WS/Ellie/log/?C=D;O=D\n",
            "Connecting to ict.icrar.org (ict.icrar.org)|130.95.227.213|:80... connected.\n",
            "HTTP request sent, awaiting response... 416 Requested Range Not Satisfiable\n",
            "\n",
            "    The file is already fully retrieved; nothing to do.\n",
            "\n",
            "--2017-11-30 08:56:20--  http://ict.icrar.org/store/staff/rdodson/ML_WS/Ellie/preprocessing/?C=N;O=A\n",
            "Connecting to ict.icrar.org (ict.icrar.org)|130.95.227.213|:80... connected.\n",
            "HTTP request sent, awaiting response... 416 Requested Range Not Satisfiable\n",
            "\n",
            "    The file is already fully retrieved; nothing to do.\n",
            "\n",
            "--2017-11-30 08:56:21--  http://ict.icrar.org/store/staff/rdodson/ML_WS/Ellie/preprocessing/?C=M;O=D\n",
            "Connecting to ict.icrar.org (ict.icrar.org)|130.95.227.213|:80... connected.\n",
            "HTTP request sent, awaiting response... 416 Requested Range Not Satisfiable\n",
            "\n",
            "    The file is already fully retrieved; nothing to do.\n",
            "\n",
            "--2017-11-30 08:56:21--  http://ict.icrar.org/store/staff/rdodson/ML_WS/Ellie/preprocessing/?C=S;O=D\n",
            "Connecting to ict.icrar.org (ict.icrar.org)|130.95.227.213|:80... connected.\n",
            "HTTP request sent, awaiting response... 416 Requested Range Not Satisfiable\n",
            "\n",
            "    The file is already fully retrieved; nothing to do.\n",
            "\n",
            "--2017-11-30 08:56:22--  http://ict.icrar.org/store/staff/rdodson/ML_WS/Ellie/preprocessing/?C=D;O=D\n",
            "Connecting to ict.icrar.org (ict.icrar.org)|130.95.227.213|:80... connected.\n",
            "HTTP request sent, awaiting response... 416 Requested Range Not Satisfiable\n",
            "\n",
            "    The file is already fully retrieved; nothing to do.\n",
            "\n",
            "FINISHED --2017-11-30 08:56:22--\n",
            "Total wall clock time: 35s\n",
            "Downloaded: 1 files, 2.1K in 0s (263 MB/s)\n",
            ".:\n",
            "data\t       index.html?C=D;O=A  index.html?C=N;O=D  mnist_train.ipynb\n",
            "datalab        index.html?C=D;O=D  index.html?C=S;O=A  model.py\n",
            "datasets       index.html?C=M;O=A  index.html?C=S;O=D  model.pyc\n",
            "Ellie\t       index.html?C=M;O=D  log\t\t       preprocessing\n",
            "ict.icrar.org  index.html?C=N;O=A  mnist_eval.ipynb\n",
            "\n",
            "./data:\n",
            "index.html\t    index.html?C=M;O=D\tindex.html?C=S;O=D\n",
            "index.html?C=D;O=A  index.html?C=N;O=A\tmnist_test.tfrecord\n",
            "index.html?C=D;O=D  index.html?C=N;O=D\tmnist_train.tfrecord\n",
            "index.html?C=M;O=A  index.html?C=S;O=A\n",
            "\n",
            "./datalab:\n",
            "\n",
            "./datasets:\n",
            "dataset_utils.py\t       index.html?C=M;O=A  __init__.py\n",
            "dataset_utils.pyc\t       index.html?C=M;O=D  __init__.pyc\n",
            "download_and_convert_mnist.py  index.html?C=N;O=A  mnist.py\n",
            "index.html\t\t       index.html?C=N;O=D  mnist.pyc\n",
            "index.html?C=D;O=A\t       index.html?C=S;O=A\n",
            "index.html?C=D;O=D\t       index.html?C=S;O=D\n",
            "\n",
            "./Ellie:\n",
            "data\t\t    index.html?C=M;O=A\tindex.html?C=S;O=A  mnist_train.ipynb\n",
            "datasets\t    index.html?C=M;O=D\tindex.html?C=S;O=D  model.py\n",
            "index.html?C=D;O=A  index.html?C=N;O=A\tlog\t\t    preprocessing\n",
            "index.html?C=D;O=D  index.html?C=N;O=D\tmnist_eval.ipynb\n",
            "\n",
            "./Ellie/data:\n",
            "index.html\t    index.html?C=M;O=D\tindex.html?C=S;O=D\n",
            "index.html?C=D;O=A  index.html?C=N;O=A\tmnist_test.tfrecord\n",
            "index.html?C=D;O=D  index.html?C=N;O=D\tmnist_train.tfrecord\n",
            "index.html?C=M;O=A  index.html?C=S;O=A\n",
            "\n",
            "./Ellie/datasets:\n",
            "dataset_utils.py\t       index.html?C=D;O=D  index.html?C=N;O=D  mnist.py\n",
            "download_and_convert_mnist.py  index.html?C=M;O=A  index.html?C=S;O=A\n",
            "index.html\t\t       index.html?C=M;O=D  index.html?C=S;O=D\n",
            "index.html?C=D;O=A\t       index.html?C=N;O=A  __init__.py\n",
            "\n",
            "./Ellie/log:\n",
            "desc\t\t    index.html?C=D;O=D\tindex.html?C=N;O=A  index.html?C=S;O=D\n",
            "index.html\t    index.html?C=M;O=A\tindex.html?C=N;O=D\n",
            "index.html?C=D;O=A  index.html?C=M;O=D\tindex.html?C=S;O=A\n",
            "\n",
            "./Ellie/preprocessing:\n",
            "index.html\t    index.html?C=M;O=D\tindex.html?C=S;O=D\n",
            "index.html?C=D;O=A  index.html?C=N;O=A\t__init__.py\n",
            "index.html?C=D;O=D  index.html?C=N;O=D\tlenet_preprocessing.py\n",
            "index.html?C=M;O=A  index.html?C=S;O=A\n",
            "\n",
            "./ict.icrar.org:\n",
            "store\n",
            "\n",
            "./ict.icrar.org/store:\n",
            "staff\n",
            "\n",
            "./ict.icrar.org/store/staff:\n",
            "rdodson\n",
            "\n",
            "./ict.icrar.org/store/staff/rdodson:\n",
            "ML_WS\n",
            "\n",
            "./ict.icrar.org/store/staff/rdodson/ML_WS:\n",
            "colab_req.txt  index.html\t   index.html?C=M;O=A  index.html?C=N;O=D\n",
            "Ellie\t       index.html?C=D;O=A  index.html?C=M;O=D  index.html?C=S;O=A\n",
            "Ellie.1        index.html?C=D;O=D  index.html?C=N;O=A  index.html?C=S;O=D\n",
            "\n",
            "./ict.icrar.org/store/staff/rdodson/ML_WS/Ellie:\n",
            "data\t\t    index.html?C=M;O=A\tindex.html?C=S;O=A  mnist_train.ipynb\n",
            "datasets\t    index.html?C=M;O=D\tindex.html?C=S;O=D  model.py\n",
            "index.html?C=D;O=A  index.html?C=N;O=A\tlog\t\t    preprocessing\n",
            "index.html?C=D;O=D  index.html?C=N;O=D\tmnist_eval.ipynb\n",
            "\n",
            "./ict.icrar.org/store/staff/rdodson/ML_WS/Ellie/data:\n",
            "index.html\t    index.html?C=M;O=D\tindex.html?C=S;O=D\n",
            "index.html?C=D;O=A  index.html?C=N;O=A\tmnist_test.tfrecord\n",
            "index.html?C=D;O=D  index.html?C=N;O=D\tmnist_train.tfrecord\n",
            "index.html?C=M;O=A  index.html?C=S;O=A\n",
            "\n",
            "./ict.icrar.org/store/staff/rdodson/ML_WS/Ellie/datasets:\n",
            "dataset_utils.py\t       index.html?C=D;O=D  index.html?C=N;O=D  mnist.py\n",
            "download_and_convert_mnist.py  index.html?C=M;O=A  index.html?C=S;O=A\n",
            "index.html\t\t       index.html?C=M;O=D  index.html?C=S;O=D\n",
            "index.html?C=D;O=A\t       index.html?C=N;O=A  __init__.py\n",
            "\n",
            "./ict.icrar.org/store/staff/rdodson/ML_WS/Ellie/log:\n",
            "desc\t\t    index.html?C=D;O=D\tindex.html?C=N;O=A  index.html?C=S;O=D\n",
            "index.html\t    index.html?C=M;O=A\tindex.html?C=N;O=D\n",
            "index.html?C=D;O=A  index.html?C=M;O=D\tindex.html?C=S;O=A\n",
            "\n",
            "./ict.icrar.org/store/staff/rdodson/ML_WS/Ellie/preprocessing:\n",
            "index.html\t    index.html?C=M;O=D\tindex.html?C=S;O=D\n",
            "index.html?C=D;O=A  index.html?C=N;O=A\t__init__.py\n",
            "index.html?C=D;O=D  index.html?C=N;O=D\tlenet_preprocessing.py\n",
            "index.html?C=M;O=A  index.html?C=S;O=A\n",
            "\n",
            "./log:\n",
            "desc\t\t    index.html?C=D;O=D\tindex.html?C=N;O=A  index.html?C=S;O=D\n",
            "index.html\t    index.html?C=M;O=A\tindex.html?C=N;O=D\n",
            "index.html?C=D;O=A  index.html?C=M;O=D\tindex.html?C=S;O=A\n",
            "\n",
            "./preprocessing:\n",
            "index.html\t    index.html?C=N;O=A\t__init__.pyc\n",
            "index.html?C=D;O=A  index.html?C=N;O=D\tlenet_preprocessing.py\n",
            "index.html?C=D;O=D  index.html?C=S;O=A\tlenet_preprocessing.pyc\n",
            "index.html?C=M;O=A  index.html?C=S;O=D\n",
            "index.html?C=M;O=D  __init__.py\n"
          ],
          "name": "stdout"
        }
      ]
    },
    {
      "metadata": {
        "id": "9r8jSWXDt_A8",
        "colab_type": "code",
        "colab": {
          "autoexec": {
            "startup": false,
            "wait_interval": 0
          }
        }
      },
      "source": [
        "import tensorflow as tf\n",
        "\n",
        "from datasets import mnist\n",
        "\n",
        "from model import lenet, load_batch"
      ],
      "cell_type": "code",
      "execution_count": 0,
      "outputs": []
    },
    {
      "metadata": {
        "id": "9zJLJSDAt_BC",
        "colab_type": "text"
      },
      "source": [
        "I have tried other libraries before like Tensorflow and Keras. Both have their pros and cons, but we will be moving forward with another flexible library called slim. Slim has a good support and a lot of pretrained models like ResNet, VGG, Inception, and others. Actually, slim is a very clean and lightweight wrapper around Tensorflow which will keep our script much neater than using Tensorflow itself which is a very low-level library.\n",
        "\n",
        "Slim comes with Tensorflow so no need to install it separately. A big advantage, yeah?!"
      ],
      "cell_type": "markdown"
    },
    {
      "metadata": {
        "id": "6Jemrngbt_BC",
        "colab_type": "code",
        "colab": {
          "autoexec": {
            "startup": false,
            "wait_interval": 0
          }
        }
      },
      "source": [
        "slim = tf.contrib.slim"
      ],
      "cell_type": "code",
      "execution_count": 0,
      "outputs": []
    },
    {
      "metadata": {
        "id": "0bpwg8t-t_BF",
        "colab_type": "text"
      },
      "source": [
        "Let's facilitate the script by allocating some flags for the data directory, data loading batch size, etc. "
      ],
      "cell_type": "markdown"
    },
    {
      "metadata": {
        "id": "ArUvBU6pt_BH",
        "colab_type": "code",
        "colab": {
          "autoexec": {
            "startup": false,
            "wait_interval": 0
          }
        }
      },
      "source": [
        "flags = tf.app.flags\n",
        "flags.DEFINE_string('data_dir', './data/',\n",
        "                    'Directory with the mnist data.')\n",
        "flags.DEFINE_integer('batch_size', 5, 'Batch size.')\n",
        "flags.DEFINE_integer('num_batches', None,\n",
        "                     'Num of batches to train (epochs).')\n",
        "flags.DEFINE_string('log_dir', './log',\n",
        "                    'Directory with the log data.')\n",
        "FLAGS = flags.FLAGS"
      ],
      "cell_type": "code",
      "execution_count": 0,
      "outputs": []
    },
    {
      "metadata": {
        "id": "8W3eIZjNt_BJ",
        "colab_type": "text"
      },
      "source": [
        "We load the training dataset using `mnist.get_split`. This function has systematic instructions for reading data from `TFRecords`."
      ],
      "cell_type": "markdown"
    },
    {
      "metadata": {
        "id": "n2n7bRtTt_BK",
        "colab_type": "code",
        "colab": {
          "autoexec": {
            "startup": false,
            "wait_interval": 0
          }
        }
      },
      "source": [
        "dataset = mnist.get_split('train', FLAGS.data_dir)"
      ],
      "cell_type": "code",
      "execution_count": 0,
      "outputs": []
    },
    {
      "metadata": {
        "id": "KvU4fv0st_BM",
        "colab_type": "text"
      },
      "source": [
        "Load batches of the dataset. The important arguments for this function are the dataset from the step above and the batch size value which we have already provided through the flags. For this specific workshop, we choose the batch size to be 100. Feel free to change the batch size but be aware of your memory capability! Don't forget that 100 here means 100 images + 100 labels."
      ],
      "cell_type": "markdown"
    },
    {
      "metadata": {
        "id": "nrZIi_jPt_BM",
        "colab_type": "code",
        "colab": {
          "autoexec": {
            "startup": false,
            "wait_interval": 0
          }
        }
      },
      "source": [
        "images, labels = load_batch(\n",
        "    dataset,\n",
        "    FLAGS.batch_size,\n",
        "    is_training=True)"
      ],
      "cell_type": "code",
      "execution_count": 0,
      "outputs": []
    },
    {
      "metadata": {
        "id": "_QPWtFJut_BP",
        "colab_type": "text"
      },
      "source": [
        "Here you see the training digits being fed into the deep neural network, 100 at a time. Then run the batches of images through the neural network model."
      ],
      "cell_type": "markdown"
    },
    {
      "metadata": {
        "id": "ZOq0tyECt_BP",
        "colab_type": "code",
        "colab": {
          "autoexec": {
            "startup": false,
            "wait_interval": 0
          }
        }
      },
      "source": [
        "predictions = lenet(images)"
      ],
      "cell_type": "code",
      "execution_count": 0,
      "outputs": []
    },
    {
      "metadata": {
        "id": "h9DL41krt_BV",
        "colab_type": "text"
      },
      "source": [
        "Then we encode the labels by \"One-hot\" encoding. This method means that we represent the label \"6\", for instance, by using a vector of 10 values, all zeros but the 6th value which is 1 (see the image below). \n",
        "It is handy here because the format is very similar to how our neural network outputs predictions, also as a vector of 10 values."
      ],
      "cell_type": "markdown"
    },
    {
      "metadata": {
        "id": "upiJwihbt_BX",
        "colab_type": "code",
        "colab": {
          "autoexec": {
            "startup": false,
            "wait_interval": 0
          }
        }
      },
      "source": [
        "one_hot_labels = slim.one_hot_encoding(\n",
        "    labels,\n",
        "    dataset.num_classes)"
      ],
      "cell_type": "code",
      "execution_count": 0,
      "outputs": []
    },
    {
      "metadata": {
        "id": "j3CPhWknt_Be",
        "colab_type": "text"
      },
      "source": [
        "To drive the training, we will define a loss function, i.e. a value representing how badly the system recognizes the digits and try to minimise it. The statistical practice requires choosing a suitable loss function in the context of a particular applied problem. With `tf.summary` we write the loss values as summaries to be plotted later on Tensorboard."
      ],
      "cell_type": "markdown"
    },
    {
      "metadata": {
        "id": "4QNuJf5wt_Bf",
        "colab_type": "code",
        "colab": {
          "autoexec": {
            "startup": false,
            "wait_interval": 0
          },
          "output_extras": [
            {
              "item_id": 1
            },
            {
              "item_id": 2
            }
          ],
          "base_uri": "https://localhost:8080/",
          "height": 360
        },
        "outputId": "2c027b27-0ddb-4a70-d0f3-e4fdd1168eb6",
        "executionInfo": {
          "status": "ok",
          "timestamp": 1512032192477,
          "user_tz": -480,
          "elapsed": 776,
          "user": {
            "displayName": "Richard Dodson",
            "photoUrl": "//lh5.googleusercontent.com/-f94LMF0bnco/AAAAAAAAAAI/AAAAAAAAAAA/tc5rhyC858Q/s50-c-k-no/photo.jpg",
            "userId": "118150954080456640081"
          }
        }
      },
      "source": [
        "slim.losses.softmax_cross_entropy(\n",
        "    predictions,\n",
        "    one_hot_labels)\n",
        "\n",
        "total_loss = slim.losses.get_total_loss()\n",
        "tf.summary.scalar('loss', total_loss)"
      ],
      "cell_type": "code",
      "execution_count": 9,
      "outputs": [
        {
          "output_type": "stream",
          "text": [
            "WARNING:tensorflow:From <ipython-input-9-30e82917cdbd>:3: softmax_cross_entropy (from tensorflow.contrib.losses.python.losses.loss_ops) is deprecated and will be removed after 2016-12-30.\n",
            "Instructions for updating:\n",
            "Use tf.losses.softmax_cross_entropy instead. Note that the order of the logits and labels arguments has been changed.\n",
            "WARNING:tensorflow:From /usr/local/lib/python2.7/dist-packages/tensorflow/contrib/losses/python/losses/loss_ops.py:398: compute_weighted_loss (from tensorflow.contrib.losses.python.losses.loss_ops) is deprecated and will be removed after 2016-12-30.\n",
            "Instructions for updating:\n",
            "Use tf.losses.compute_weighted_loss instead.\n",
            "WARNING:tensorflow:From /usr/local/lib/python2.7/dist-packages/tensorflow/contrib/losses/python/losses/loss_ops.py:151: add_loss (from tensorflow.contrib.losses.python.losses.loss_ops) is deprecated and will be removed after 2016-12-30.\n",
            "Instructions for updating:\n",
            "Use tf.losses.add_loss instead.\n",
            "WARNING:tensorflow:From <ipython-input-9-30e82917cdbd>:5: get_total_loss (from tensorflow.contrib.losses.python.losses.loss_ops) is deprecated and will be removed after 2016-12-30.\n",
            "Instructions for updating:\n",
            "Use tf.losses.get_total_loss instead.\n",
            "WARNING:tensorflow:From /usr/local/lib/python2.7/dist-packages/tensorflow/contrib/losses/python/losses/loss_ops.py:261: get_losses (from tensorflow.contrib.losses.python.losses.loss_ops) is deprecated and will be removed after 2016-12-30.\n",
            "Instructions for updating:\n",
            "Use tf.losses.get_losses instead.\n",
            "WARNING:tensorflow:From /usr/local/lib/python2.7/dist-packages/tensorflow/contrib/losses/python/losses/loss_ops.py:263: get_regularization_losses (from tensorflow.contrib.losses.python.losses.loss_ops) is deprecated and will be removed after 2016-12-30.\n",
            "Instructions for updating:\n",
            "Use tf.losses.get_regularization_losses instead.\n"
          ],
          "name": "stdout"
        },
        {
          "output_type": "execute_result",
          "data": {
            "text/plain": [
              "<tf.Tensor 'loss:0' shape=() dtype=string>"
            ]
          },
          "metadata": {
            "tags": []
          },
          "execution_count": 9
        }
      ]
    },
    {
      "metadata": {
        "id": "GuNIge1Rt_Bo",
        "colab_type": "text"
      },
      "source": [
        "This is where the TensorFlow magic happens. You select an optimiser (there are many available such as `GradientDescentOptimizer`, `MomentumOptimizer`, `AdamOptimizer`, etc.) and ask it to minimise the cross-entropy loss. In this step, TensorFlow computes the partial derivatives of the loss function relatively to all the weights and all the biases (the gradient). We need to specify the optimizer. Here, we use `RMSProp` as the optimizer that utilizes the magnitude of recent gradients to normalize the gradients."
      ],
      "cell_type": "markdown"
    },
    {
      "metadata": {
        "id": "5EU87vZmt_Bp",
        "colab_type": "code",
        "colab": {
          "autoexec": {
            "startup": false,
            "wait_interval": 0
          }
        }
      },
      "source": [
        "optimizer = tf.train.RMSPropOptimizer(0.001, 0.9)"
      ],
      "cell_type": "code",
      "execution_count": 0,
      "outputs": []
    },
    {
      "metadata": {
        "id": "5BZsF1LDt_Bt",
        "colab_type": "text"
      },
      "source": [
        "Before starting train loop, I should note that our train loop needs a train operation that we call it `train_op`.\n",
        "This is a crucial `Operation` that:\n",
        "\n",
        "(a) computes the loss,\n",
        "\n",
        "(b) applies the gradients to update the weights and\n",
        "\n",
        "(c) returns the value of the loss. \n",
        "\n",
        "`slim.learning.create_train_op` creates such an `Operation`."
      ],
      "cell_type": "markdown"
    },
    {
      "metadata": {
        "id": "eUcZNf-3t_Bu",
        "colab_type": "code",
        "colab": {
          "autoexec": {
            "startup": false,
            "wait_interval": 0
          },
          "output_extras": [
            {
              "item_id": 1
            }
          ],
          "base_uri": "https://localhost:8080/",
          "height": 88
        },
        "outputId": "9082cad2-8155-4bf2-f1fa-8c369daa57c5",
        "executionInfo": {
          "status": "ok",
          "timestamp": 1512032194244,
          "user_tz": -480,
          "elapsed": 852,
          "user": {
            "displayName": "Richard Dodson",
            "photoUrl": "//lh5.googleusercontent.com/-f94LMF0bnco/AAAAAAAAAAI/AAAAAAAAAAA/tc5rhyC858Q/s50-c-k-no/photo.jpg",
            "userId": "118150954080456640081"
          }
        }
      },
      "source": [
        "train_op = slim.learning.create_train_op(\n",
        "    total_loss,\n",
        "    optimizer,\n",
        "    summarize_gradients=True)"
      ],
      "cell_type": "code",
      "execution_count": 11,
      "outputs": [
        {
          "output_type": "stream",
          "text": [
            "WARNING:tensorflow:From /usr/local/lib/python2.7/dist-packages/tensorflow/contrib/training/python/training/training.py:412: get_or_create_global_step (from tensorflow.contrib.framework.python.ops.variables) is deprecated and will be removed in a future version.\n",
            "Instructions for updating:\n",
            "Please switch to tf.train.get_or_create_global_step\n"
          ],
          "name": "stdout"
        }
      ]
    },
    {
      "metadata": {
        "id": "cfj3gxWSt_Bv",
        "colab_type": "text"
      },
      "source": [
        "Finally, it is time to run the training loop. All the TensorFlow instructions up to this point have been preparing a computation graph in memory but nothing has been computed yet. Now in this stage it's better to run evaluation part first. \n",
        "\n",
        "\"Training\" the neural network actually means using training images and labels to adjust weights and biases so as to minimise the cross-entropy loss function. Now, we are all set to start training loop. Use `slim.learning.train` for that. As you see this function uses the operation `train_op` which we have already made in the previous step."
      ],
      "cell_type": "markdown"
    },
    {
      "metadata": {
        "id": "5PyP_8llvvnh",
        "colab_type": "code",
        "colab": {
          "autoexec": {
            "startup": false,
            "wait_interval": 0
          },
          "output_extras": [
            {
              "item_id": 6
            },
            {
              "item_id": 11
            },
            {
              "item_id": 17
            },
            {
              "item_id": 23
            },
            {
              "item_id": 28
            },
            {
              "item_id": 34
            },
            {
              "item_id": 40
            },
            {
              "item_id": 42
            }
          ],
          "base_uri": "https://localhost:8080/",
          "height": 6902
        },
        "outputId": "9a58de83-4465-462d-ea17-7d0b306bc5b1"
      },
      "source": [
        "slim.learning.train(\n",
        "    train_op,\n",
        "    FLAGS.log_dir,\n",
        "    save_summaries_secs=20)"
      ],
      "cell_type": "code",
      "execution_count": 0,
      "outputs": [
        {
          "output_type": "stream",
          "text": [
            "INFO:tensorflow:Starting Session.\n",
            "INFO:tensorflow:Saving checkpoint to path ./log/model.ckpt\n",
            "INFO:tensorflow:Starting Queues.\n",
            "INFO:tensorflow:global_step/sec: 0\n",
            "INFO:tensorflow:Recording summary at step 1.\n",
            "INFO:tensorflow:global step 1: loss = 2.4864 (0.230 sec/step)\n",
            "INFO:tensorflow:global step 2: loss = 2.3287 (0.028 sec/step)\n",
            "INFO:tensorflow:global step 3: loss = 2.1605 (0.020 sec/step)\n",
            "INFO:tensorflow:global step 4: loss = 2.1992 (0.022 sec/step)\n",
            "INFO:tensorflow:global step 5: loss = 2.4702 (0.021 sec/step)\n",
            "INFO:tensorflow:global step 6: loss = 2.1694 (0.021 sec/step)\n",
            "INFO:tensorflow:global step 7: loss = 2.2946 (0.025 sec/step)\n",
            "INFO:tensorflow:global step 8: loss = 2.5279 (0.020 sec/step)\n",
            "INFO:tensorflow:global step 9: loss = 2.2254 (0.021 sec/step)\n",
            "INFO:tensorflow:global step 10: loss = 2.2740 (0.019 sec/step)\n",
            "INFO:tensorflow:global step 11: loss = 2.2076 (0.022 sec/step)\n",
            "INFO:tensorflow:global step 12: loss = 2.4333 (0.020 sec/step)\n",
            "INFO:tensorflow:global step 13: loss = 2.2090 (0.018 sec/step)\n",
            "INFO:tensorflow:global step 14: loss = 2.2933 (0.023 sec/step)\n",
            "INFO:tensorflow:global step 15: loss = 2.3203 (0.021 sec/step)\n",
            "INFO:tensorflow:global step 16: loss = 2.3557 (0.024 sec/step)\n",
            "INFO:tensorflow:global step 17: loss = 2.3729 (0.021 sec/step)\n",
            "INFO:tensorflow:global step 18: loss = 2.3281 (0.022 sec/step)\n",
            "INFO:tensorflow:global step 19: loss = 2.2247 (0.020 sec/step)\n",
            "INFO:tensorflow:global step 20: loss = 2.2626 (0.018 sec/step)\n",
            "INFO:tensorflow:global step 21: loss = 2.2007 (0.021 sec/step)\n",
            "INFO:tensorflow:global step 22: loss = 2.2403 (0.021 sec/step)\n",
            "INFO:tensorflow:global step 23: loss = 2.3891 (0.022 sec/step)\n",
            "INFO:tensorflow:global step 24: loss = 2.1391 (0.021 sec/step)\n",
            "INFO:tensorflow:global step 25: loss = 2.2939 (0.021 sec/step)\n",
            "INFO:tensorflow:global step 26: loss = 2.3287 (0.025 sec/step)\n",
            "INFO:tensorflow:global step 27: loss = 2.3544 (0.023 sec/step)\n",
            "INFO:tensorflow:global step 28: loss = 2.3376 (0.023 sec/step)\n",
            "INFO:tensorflow:global step 29: loss = 2.3010 (0.021 sec/step)\n",
            "INFO:tensorflow:global step 30: loss = 2.2297 (0.021 sec/step)\n",
            "INFO:tensorflow:global step 31: loss = 2.0960 (0.020 sec/step)\n",
            "INFO:tensorflow:global step 32: loss = 2.2065 (0.021 sec/step)\n",
            "INFO:tensorflow:global step 33: loss = 2.1611 (0.022 sec/step)\n",
            "INFO:tensorflow:global step 34: loss = 2.2563 (0.024 sec/step)\n",
            "INFO:tensorflow:global step 35: loss = 2.1970 (0.025 sec/step)\n",
            "INFO:tensorflow:global step 36: loss = 2.2648 (0.031 sec/step)\n",
            "INFO:tensorflow:global step 37: loss = 2.5340 (0.023 sec/step)\n",
            "INFO:tensorflow:global step 38: loss = 2.3532 (0.023 sec/step)\n",
            "INFO:tensorflow:global step 39: loss = 2.2603 (0.021 sec/step)\n",
            "INFO:tensorflow:global step 40: loss = 2.2880 (0.027 sec/step)\n",
            "INFO:tensorflow:global step 41: loss = 2.0783 (0.023 sec/step)\n",
            "INFO:tensorflow:global step 42: loss = 2.0905 (0.021 sec/step)\n",
            "INFO:tensorflow:global step 43: loss = 2.0300 (0.024 sec/step)\n",
            "INFO:tensorflow:global step 44: loss = 2.3970 (0.022 sec/step)\n",
            "INFO:tensorflow:global step 45: loss = 2.3492 (0.025 sec/step)\n",
            "INFO:tensorflow:global step 46: loss = 2.0810 (0.025 sec/step)\n",
            "INFO:tensorflow:global step 47: loss = 2.2778 (0.021 sec/step)\n",
            "INFO:tensorflow:global step 48: loss = 2.3692 (0.021 sec/step)\n",
            "INFO:tensorflow:global step 49: loss = 2.3360 (0.029 sec/step)\n",
            "INFO:tensorflow:global step 50: loss = 2.2529 (0.021 sec/step)\n",
            "INFO:tensorflow:global step 51: loss = 2.2348 (0.022 sec/step)\n",
            "INFO:tensorflow:global step 52: loss = 2.1642 (0.021 sec/step)\n"
          ],
          "name": "stdout"
        },
        {
          "output_type": "stream",
          "text": [
            "INFO:tensorflow:global step 53: loss = 2.1533 (0.021 sec/step)\n",
            "INFO:tensorflow:global step 54: loss = 2.0096 (0.022 sec/step)\n",
            "INFO:tensorflow:global step 55: loss = 2.5490 (0.022 sec/step)\n",
            "INFO:tensorflow:global step 56: loss = 2.0941 (0.021 sec/step)\n",
            "INFO:tensorflow:global step 57: loss = 2.0626 (0.020 sec/step)\n",
            "INFO:tensorflow:global step 58: loss = 2.0256 (0.022 sec/step)\n",
            "INFO:tensorflow:global step 59: loss = 2.0333 (0.021 sec/step)\n",
            "INFO:tensorflow:global step 60: loss = 2.1240 (0.020 sec/step)\n",
            "INFO:tensorflow:global step 61: loss = 2.5375 (0.021 sec/step)\n",
            "INFO:tensorflow:global step 62: loss = 2.0690 (0.022 sec/step)\n",
            "INFO:tensorflow:global step 63: loss = 2.0492 (0.020 sec/step)\n",
            "INFO:tensorflow:global step 64: loss = 2.1520 (0.026 sec/step)\n",
            "INFO:tensorflow:global step 65: loss = 2.1766 (0.024 sec/step)\n",
            "INFO:tensorflow:global step 66: loss = 2.1530 (0.022 sec/step)\n",
            "INFO:tensorflow:global step 67: loss = 1.8145 (0.022 sec/step)\n",
            "INFO:tensorflow:global step 68: loss = 2.1435 (0.020 sec/step)\n",
            "INFO:tensorflow:global step 69: loss = 1.9153 (0.019 sec/step)\n",
            "INFO:tensorflow:global step 70: loss = 2.5709 (0.021 sec/step)\n",
            "INFO:tensorflow:global step 71: loss = 1.9855 (0.021 sec/step)\n",
            "INFO:tensorflow:global step 72: loss = 2.0356 (0.022 sec/step)\n",
            "INFO:tensorflow:global step 73: loss = 2.0716 (0.020 sec/step)\n",
            "INFO:tensorflow:global step 74: loss = 2.2233 (0.030 sec/step)\n",
            "INFO:tensorflow:global step 75: loss = 1.6573 (0.030 sec/step)\n",
            "INFO:tensorflow:global step 76: loss = 1.9458 (0.031 sec/step)\n",
            "INFO:tensorflow:global step 77: loss = 1.9914 (0.031 sec/step)\n",
            "INFO:tensorflow:global step 78: loss = 1.8726 (0.034 sec/step)\n",
            "INFO:tensorflow:global step 79: loss = 2.3041 (0.030 sec/step)\n",
            "INFO:tensorflow:global step 80: loss = 2.1408 (0.033 sec/step)\n",
            "INFO:tensorflow:global step 81: loss = 2.1648 (0.032 sec/step)\n",
            "INFO:tensorflow:global step 82: loss = 1.5937 (0.033 sec/step)\n",
            "INFO:tensorflow:global step 83: loss = 1.7430 (0.029 sec/step)\n",
            "INFO:tensorflow:global step 84: loss = 2.0867 (0.027 sec/step)\n",
            "INFO:tensorflow:global step 85: loss = 1.3299 (0.032 sec/step)\n",
            "INFO:tensorflow:global step 86: loss = 2.2645 (0.031 sec/step)\n",
            "INFO:tensorflow:global step 87: loss = 2.3424 (0.031 sec/step)\n",
            "INFO:tensorflow:global step 88: loss = 2.0354 (0.036 sec/step)\n",
            "INFO:tensorflow:global step 89: loss = 1.6995 (0.028 sec/step)\n",
            "INFO:tensorflow:global step 90: loss = 1.4980 (0.033 sec/step)\n",
            "INFO:tensorflow:global step 91: loss = 2.2148 (0.031 sec/step)\n",
            "INFO:tensorflow:global step 92: loss = 1.7710 (0.029 sec/step)\n",
            "INFO:tensorflow:global step 93: loss = 1.6031 (0.028 sec/step)\n",
            "INFO:tensorflow:global step 94: loss = 1.6954 (0.029 sec/step)\n",
            "INFO:tensorflow:global step 95: loss = 2.2786 (0.030 sec/step)\n",
            "INFO:tensorflow:global step 96: loss = 1.2282 (0.030 sec/step)\n",
            "INFO:tensorflow:global step 97: loss = 1.0861 (0.033 sec/step)\n",
            "INFO:tensorflow:global step 98: loss = 0.7640 (0.035 sec/step)\n",
            "INFO:tensorflow:global step 99: loss = 2.3203 (0.030 sec/step)\n",
            "INFO:tensorflow:global step 100: loss = 1.8772 (0.031 sec/step)\n",
            "INFO:tensorflow:global step 101: loss = 1.4061 (0.046 sec/step)\n",
            "INFO:tensorflow:global step 102: loss = 1.7516 (0.028 sec/step)\n",
            "INFO:tensorflow:global step 103: loss = 1.1506 (0.028 sec/step)\n",
            "INFO:tensorflow:global step 104: loss = 0.8233 (0.031 sec/step)\n",
            "INFO:tensorflow:global step 105: loss = 0.8932 (0.029 sec/step)\n",
            "INFO:tensorflow:global step 106: loss = 1.8910 (0.030 sec/step)\n",
            "INFO:tensorflow:global step 107: loss = 1.6070 (0.028 sec/step)\n"
          ],
          "name": "stdout"
        },
        {
          "output_type": "stream",
          "text": [
            "INFO:tensorflow:global step 108: loss = 1.5433 (0.035 sec/step)\n",
            "INFO:tensorflow:global step 109: loss = 1.4513 (0.027 sec/step)\n",
            "INFO:tensorflow:global step 110: loss = 1.4933 (0.033 sec/step)\n",
            "INFO:tensorflow:global step 111: loss = 1.0821 (0.031 sec/step)\n",
            "INFO:tensorflow:global step 112: loss = 0.7160 (0.031 sec/step)\n",
            "INFO:tensorflow:global step 113: loss = 1.0162 (0.031 sec/step)\n",
            "INFO:tensorflow:global step 114: loss = 1.0199 (0.031 sec/step)\n",
            "INFO:tensorflow:global step 115: loss = 0.3885 (0.032 sec/step)\n",
            "INFO:tensorflow:global step 116: loss = 1.4441 (0.030 sec/step)\n",
            "INFO:tensorflow:global step 117: loss = 1.0752 (0.029 sec/step)\n",
            "INFO:tensorflow:global step 118: loss = 0.1914 (0.029 sec/step)\n",
            "INFO:tensorflow:global step 119: loss = 0.8358 (0.030 sec/step)\n",
            "INFO:tensorflow:global step 120: loss = 1.0660 (0.037 sec/step)\n",
            "INFO:tensorflow:global step 121: loss = 1.1599 (0.034 sec/step)\n",
            "INFO:tensorflow:global step 122: loss = 0.6038 (0.033 sec/step)\n",
            "INFO:tensorflow:global step 123: loss = 0.5584 (0.027 sec/step)\n",
            "INFO:tensorflow:global step 124: loss = 0.3928 (0.027 sec/step)\n",
            "INFO:tensorflow:global step 125: loss = 0.3088 (0.032 sec/step)\n",
            "INFO:tensorflow:global step 126: loss = 1.2619 (0.030 sec/step)\n",
            "INFO:tensorflow:global step 127: loss = 1.0448 (0.032 sec/step)\n",
            "INFO:tensorflow:global step 128: loss = 0.2193 (0.028 sec/step)\n",
            "INFO:tensorflow:global step 129: loss = 0.3705 (0.031 sec/step)\n",
            "INFO:tensorflow:global step 130: loss = 0.3230 (0.035 sec/step)\n",
            "INFO:tensorflow:global step 131: loss = 0.3586 (0.036 sec/step)\n",
            "INFO:tensorflow:global step 132: loss = 1.8082 (0.030 sec/step)\n",
            "INFO:tensorflow:global step 133: loss = 0.8213 (0.027 sec/step)\n",
            "INFO:tensorflow:global step 134: loss = 0.8536 (0.029 sec/step)\n",
            "INFO:tensorflow:global step 135: loss = 0.6711 (0.032 sec/step)\n",
            "INFO:tensorflow:global step 136: loss = 0.4284 (0.029 sec/step)\n",
            "INFO:tensorflow:global step 137: loss = 1.2293 (0.031 sec/step)\n",
            "INFO:tensorflow:global step 138: loss = 0.4197 (0.029 sec/step)\n",
            "INFO:tensorflow:global step 139: loss = 0.4042 (0.029 sec/step)\n",
            "INFO:tensorflow:global step 140: loss = 0.7416 (0.030 sec/step)\n",
            "INFO:tensorflow:global step 141: loss = 0.2697 (0.037 sec/step)\n",
            "INFO:tensorflow:global step 142: loss = 0.7259 (0.029 sec/step)\n",
            "INFO:tensorflow:global step 143: loss = 0.2210 (0.034 sec/step)\n",
            "INFO:tensorflow:global step 144: loss = 0.4718 (0.033 sec/step)\n",
            "INFO:tensorflow:global step 145: loss = 1.2296 (0.029 sec/step)\n",
            "INFO:tensorflow:global step 146: loss = 0.5506 (0.031 sec/step)\n",
            "INFO:tensorflow:global step 147: loss = 1.2246 (0.033 sec/step)\n",
            "INFO:tensorflow:global step 148: loss = 1.3407 (0.032 sec/step)\n",
            "INFO:tensorflow:global step 149: loss = 1.3227 (0.027 sec/step)\n",
            "INFO:tensorflow:global step 150: loss = 0.7728 (0.029 sec/step)\n",
            "INFO:tensorflow:global step 151: loss = 0.8159 (0.033 sec/step)\n",
            "INFO:tensorflow:global step 152: loss = 0.8978 (0.035 sec/step)\n",
            "INFO:tensorflow:global step 153: loss = 0.5863 (0.032 sec/step)\n",
            "INFO:tensorflow:global step 154: loss = 0.4497 (0.030 sec/step)\n",
            "INFO:tensorflow:global step 155: loss = 0.6962 (0.030 sec/step)\n",
            "INFO:tensorflow:global step 156: loss = 0.6968 (0.030 sec/step)\n",
            "INFO:tensorflow:global step 157: loss = 0.4766 (0.033 sec/step)\n",
            "INFO:tensorflow:global step 158: loss = 0.9455 (0.031 sec/step)\n",
            "INFO:tensorflow:global step 159: loss = 0.1555 (0.033 sec/step)\n",
            "INFO:tensorflow:global step 160: loss = 1.0530 (0.030 sec/step)\n",
            "INFO:tensorflow:global step 161: loss = 0.5916 (0.030 sec/step)\n",
            "INFO:tensorflow:global step 162: loss = 0.7820 (0.037 sec/step)\n"
          ],
          "name": "stdout"
        },
        {
          "output_type": "stream",
          "text": [
            "INFO:tensorflow:global step 163: loss = 0.0457 (0.032 sec/step)\n",
            "INFO:tensorflow:global step 164: loss = 0.2062 (0.031 sec/step)\n",
            "INFO:tensorflow:global step 165: loss = 0.6588 (0.030 sec/step)\n",
            "INFO:tensorflow:global step 166: loss = 0.2319 (0.028 sec/step)\n",
            "INFO:tensorflow:global step 167: loss = 0.0477 (0.029 sec/step)\n",
            "INFO:tensorflow:global step 168: loss = 1.3552 (0.029 sec/step)\n",
            "INFO:tensorflow:global step 169: loss = 0.4578 (0.031 sec/step)\n",
            "INFO:tensorflow:global step 170: loss = 1.1459 (0.035 sec/step)\n",
            "INFO:tensorflow:global step 171: loss = 0.5539 (0.044 sec/step)\n",
            "INFO:tensorflow:global step 172: loss = 0.7273 (0.033 sec/step)\n",
            "INFO:tensorflow:global step 173: loss = 0.7337 (0.037 sec/step)\n",
            "INFO:tensorflow:global step 174: loss = 0.7945 (0.029 sec/step)\n",
            "INFO:tensorflow:global step 175: loss = 0.2171 (0.028 sec/step)\n",
            "INFO:tensorflow:global step 176: loss = 0.3682 (0.030 sec/step)\n",
            "INFO:tensorflow:global step 177: loss = 0.4748 (0.029 sec/step)\n",
            "INFO:tensorflow:global step 178: loss = 1.5875 (0.028 sec/step)\n",
            "INFO:tensorflow:global step 179: loss = 0.7293 (0.041 sec/step)\n",
            "INFO:tensorflow:global step 180: loss = 0.9997 (0.059 sec/step)\n",
            "INFO:tensorflow:global step 181: loss = 0.0703 (0.041 sec/step)\n",
            "INFO:tensorflow:global step 182: loss = 0.1711 (0.070 sec/step)\n",
            "INFO:tensorflow:global step 183: loss = 0.5511 (0.029 sec/step)\n",
            "INFO:tensorflow:global step 184: loss = 0.6291 (0.028 sec/step)\n",
            "INFO:tensorflow:global step 185: loss = 0.0942 (0.029 sec/step)\n",
            "INFO:tensorflow:global step 186: loss = 0.7663 (0.027 sec/step)\n",
            "INFO:tensorflow:global step 187: loss = 0.4264 (0.026 sec/step)\n",
            "INFO:tensorflow:global step 188: loss = 0.0635 (0.029 sec/step)\n",
            "INFO:tensorflow:global step 189: loss = 0.2801 (0.028 sec/step)\n",
            "INFO:tensorflow:global step 190: loss = 0.2215 (0.029 sec/step)\n",
            "INFO:tensorflow:global step 191: loss = 0.0069 (0.030 sec/step)\n",
            "INFO:tensorflow:global step 192: loss = 0.0461 (0.029 sec/step)\n",
            "INFO:tensorflow:global step 193: loss = 0.0563 (0.029 sec/step)\n",
            "INFO:tensorflow:global step 194: loss = 0.2228 (0.027 sec/step)\n",
            "INFO:tensorflow:global step 195: loss = 0.1210 (0.027 sec/step)\n",
            "INFO:tensorflow:global step 196: loss = 0.9486 (0.029 sec/step)\n",
            "INFO:tensorflow:global step 197: loss = 0.1666 (0.027 sec/step)\n",
            "INFO:tensorflow:global step 198: loss = 0.7601 (0.026 sec/step)\n",
            "INFO:tensorflow:global step 199: loss = 0.6721 (0.028 sec/step)\n",
            "INFO:tensorflow:global step 200: loss = 0.9669 (0.028 sec/step)\n",
            "INFO:tensorflow:global step 201: loss = 0.3584 (0.028 sec/step)\n",
            "INFO:tensorflow:global step 202: loss = 0.5295 (0.026 sec/step)\n",
            "INFO:tensorflow:global step 203: loss = 0.2984 (0.037 sec/step)\n",
            "INFO:tensorflow:global step 204: loss = 0.2121 (0.027 sec/step)\n",
            "INFO:tensorflow:global step 205: loss = 2.5271 (0.028 sec/step)\n",
            "INFO:tensorflow:global step 206: loss = 0.3594 (0.029 sec/step)\n",
            "INFO:tensorflow:global step 207: loss = 0.1173 (0.029 sec/step)\n",
            "INFO:tensorflow:global step 208: loss = 0.2278 (0.027 sec/step)\n",
            "INFO:tensorflow:global step 209: loss = 0.3195 (0.028 sec/step)\n",
            "INFO:tensorflow:global step 210: loss = 0.0419 (0.028 sec/step)\n",
            "INFO:tensorflow:global step 211: loss = 0.0442 (0.029 sec/step)\n",
            "INFO:tensorflow:global step 212: loss = 1.0475 (0.029 sec/step)\n",
            "INFO:tensorflow:global step 213: loss = 0.3116 (0.032 sec/step)\n",
            "INFO:tensorflow:global step 214: loss = 0.0315 (0.036 sec/step)\n",
            "INFO:tensorflow:global step 215: loss = 0.5065 (0.029 sec/step)\n",
            "INFO:tensorflow:global step 216: loss = 0.2613 (0.029 sec/step)\n",
            "INFO:tensorflow:global step 217: loss = 0.1702 (0.027 sec/step)\n"
          ],
          "name": "stdout"
        },
        {
          "output_type": "stream",
          "text": [
            "INFO:tensorflow:global step 218: loss = 0.1022 (0.028 sec/step)\n",
            "INFO:tensorflow:global step 219: loss = 0.3716 (0.028 sec/step)\n",
            "INFO:tensorflow:global step 220: loss = 0.7992 (0.029 sec/step)\n",
            "INFO:tensorflow:global step 221: loss = 0.8264 (0.029 sec/step)\n",
            "INFO:tensorflow:global step 222: loss = 0.3033 (0.029 sec/step)\n",
            "INFO:tensorflow:global step 223: loss = 0.5777 (0.030 sec/step)\n",
            "INFO:tensorflow:global step 224: loss = 0.2111 (0.028 sec/step)\n",
            "INFO:tensorflow:global step 225: loss = 0.3514 (0.030 sec/step)\n",
            "INFO:tensorflow:global step 226: loss = 0.2413 (0.034 sec/step)\n",
            "INFO:tensorflow:global step 227: loss = 0.0484 (0.029 sec/step)\n",
            "INFO:tensorflow:global step 228: loss = 0.2347 (0.031 sec/step)\n",
            "INFO:tensorflow:global step 229: loss = 0.1794 (0.030 sec/step)\n",
            "INFO:tensorflow:global step 230: loss = 0.1096 (0.030 sec/step)\n",
            "INFO:tensorflow:global step 231: loss = 0.3333 (0.026 sec/step)\n",
            "INFO:tensorflow:global step 232: loss = 0.0342 (0.029 sec/step)\n",
            "INFO:tensorflow:global step 233: loss = 0.0527 (0.029 sec/step)\n",
            "INFO:tensorflow:global step 234: loss = 1.3228 (0.029 sec/step)\n",
            "INFO:tensorflow:global step 235: loss = 0.0676 (0.028 sec/step)\n",
            "INFO:tensorflow:global step 236: loss = 0.0978 (0.029 sec/step)\n",
            "INFO:tensorflow:global step 237: loss = 0.1210 (0.029 sec/step)\n",
            "INFO:tensorflow:global step 238: loss = 0.0630 (0.030 sec/step)\n",
            "INFO:tensorflow:global step 239: loss = 0.0700 (0.031 sec/step)\n",
            "INFO:tensorflow:global step 240: loss = 0.0454 (0.029 sec/step)\n",
            "INFO:tensorflow:global step 241: loss = 0.2507 (0.029 sec/step)\n",
            "INFO:tensorflow:global step 242: loss = 0.1901 (0.027 sec/step)\n",
            "INFO:tensorflow:global step 243: loss = 0.4096 (0.029 sec/step)\n",
            "INFO:tensorflow:global step 244: loss = 0.2366 (0.028 sec/step)\n",
            "INFO:tensorflow:global step 245: loss = 0.0736 (0.028 sec/step)\n",
            "INFO:tensorflow:global step 246: loss = 0.3688 (0.029 sec/step)\n",
            "INFO:tensorflow:global step 247: loss = 0.1546 (0.029 sec/step)\n",
            "INFO:tensorflow:global step 248: loss = 0.1704 (0.028 sec/step)\n",
            "INFO:tensorflow:global step 249: loss = 0.0650 (0.031 sec/step)\n",
            "INFO:tensorflow:global step 250: loss = 2.4593 (0.030 sec/step)\n",
            "INFO:tensorflow:global step 251: loss = 0.4218 (0.029 sec/step)\n",
            "INFO:tensorflow:global step 252: loss = 1.4715 (0.028 sec/step)\n",
            "INFO:tensorflow:global step 253: loss = 0.4126 (0.029 sec/step)\n",
            "INFO:tensorflow:global step 254: loss = 0.4971 (0.030 sec/step)\n",
            "INFO:tensorflow:global step 255: loss = 0.0040 (0.027 sec/step)\n",
            "INFO:tensorflow:global step 256: loss = 0.0643 (0.028 sec/step)\n",
            "INFO:tensorflow:global step 257: loss = 0.0146 (0.039 sec/step)\n",
            "INFO:tensorflow:global step 258: loss = 0.0520 (0.033 sec/step)\n",
            "INFO:tensorflow:global step 259: loss = 0.0340 (0.038 sec/step)\n",
            "INFO:tensorflow:global step 260: loss = 0.0023 (0.028 sec/step)\n",
            "INFO:tensorflow:global step 261: loss = 0.0034 (0.029 sec/step)\n",
            "INFO:tensorflow:global step 262: loss = 0.0037 (0.029 sec/step)\n",
            "INFO:tensorflow:global step 263: loss = 0.1607 (0.026 sec/step)\n",
            "INFO:tensorflow:global step 264: loss = 0.1477 (0.027 sec/step)\n",
            "INFO:tensorflow:global step 265: loss = 0.0173 (0.028 sec/step)\n",
            "INFO:tensorflow:global step 266: loss = 0.0029 (0.028 sec/step)\n",
            "INFO:tensorflow:global step 267: loss = 0.0092 (0.026 sec/step)\n",
            "INFO:tensorflow:global step 268: loss = 0.3581 (0.028 sec/step)\n",
            "INFO:tensorflow:global step 269: loss = 0.0948 (0.029 sec/step)\n",
            "INFO:tensorflow:global step 270: loss = 1.0037 (0.028 sec/step)\n",
            "INFO:tensorflow:global step 271: loss = 0.2380 (0.031 sec/step)\n",
            "INFO:tensorflow:global step 272: loss = 0.1376 (0.029 sec/step)\n"
          ],
          "name": "stdout"
        },
        {
          "output_type": "stream",
          "text": [
            "INFO:tensorflow:global step 273: loss = 2.7698 (0.030 sec/step)\n",
            "INFO:tensorflow:global step 274: loss = 0.5794 (0.028 sec/step)\n",
            "INFO:tensorflow:global step 275: loss = 0.5081 (0.030 sec/step)\n",
            "INFO:tensorflow:global step 276: loss = 0.0367 (0.036 sec/step)\n",
            "INFO:tensorflow:global step 277: loss = 1.9344 (0.028 sec/step)\n",
            "INFO:tensorflow:global step 278: loss = 0.0550 (0.030 sec/step)\n",
            "INFO:tensorflow:global step 279: loss = 0.2350 (0.030 sec/step)\n",
            "INFO:tensorflow:global step 280: loss = 0.0148 (0.028 sec/step)\n",
            "INFO:tensorflow:global step 281: loss = 0.3525 (0.027 sec/step)\n",
            "INFO:tensorflow:global step 282: loss = 0.0132 (0.028 sec/step)\n",
            "INFO:tensorflow:global step 283: loss = 0.0477 (0.030 sec/step)\n",
            "INFO:tensorflow:global step 284: loss = 1.0694 (0.029 sec/step)\n",
            "INFO:tensorflow:global step 285: loss = 0.0520 (0.030 sec/step)\n",
            "INFO:tensorflow:global step 286: loss = 0.1428 (0.028 sec/step)\n",
            "INFO:tensorflow:global step 287: loss = 0.0177 (0.034 sec/step)\n",
            "INFO:tensorflow:global step 288: loss = 0.0518 (0.026 sec/step)\n",
            "INFO:tensorflow:global step 289: loss = 0.1709 (0.026 sec/step)\n",
            "INFO:tensorflow:global step 290: loss = 0.0487 (0.028 sec/step)\n",
            "INFO:tensorflow:global step 291: loss = 0.0467 (0.027 sec/step)\n",
            "INFO:tensorflow:global step 292: loss = 0.0569 (0.029 sec/step)\n",
            "INFO:tensorflow:global step 293: loss = 0.0188 (0.030 sec/step)\n",
            "INFO:tensorflow:global step 294: loss = 0.0075 (0.026 sec/step)\n",
            "INFO:tensorflow:global step 295: loss = 0.1386 (0.030 sec/step)\n",
            "INFO:tensorflow:global step 296: loss = 0.0300 (0.030 sec/step)\n",
            "INFO:tensorflow:global step 297: loss = 0.0901 (0.029 sec/step)\n",
            "INFO:tensorflow:global step 298: loss = 0.4111 (0.029 sec/step)\n",
            "INFO:tensorflow:global step 299: loss = 0.0684 (0.033 sec/step)\n",
            "INFO:tensorflow:global step 300: loss = 0.0404 (0.030 sec/step)\n",
            "INFO:tensorflow:global step 301: loss = 0.3652 (0.029 sec/step)\n",
            "INFO:tensorflow:global step 302: loss = 0.0187 (0.032 sec/step)\n",
            "INFO:tensorflow:global step 303: loss = 0.0232 (0.026 sec/step)\n",
            "INFO:tensorflow:global step 304: loss = 0.9171 (0.028 sec/step)\n",
            "INFO:tensorflow:global step 305: loss = 0.0169 (0.028 sec/step)\n",
            "INFO:tensorflow:global step 306: loss = 0.0435 (0.027 sec/step)\n",
            "INFO:tensorflow:global step 307: loss = 0.3964 (0.028 sec/step)\n",
            "INFO:tensorflow:global step 308: loss = 1.1128 (0.031 sec/step)\n",
            "INFO:tensorflow:global step 309: loss = 0.0860 (0.028 sec/step)\n",
            "INFO:tensorflow:global step 310: loss = 0.0091 (0.033 sec/step)\n",
            "INFO:tensorflow:global step 311: loss = 0.0032 (0.026 sec/step)\n",
            "INFO:tensorflow:global step 312: loss = 0.2003 (0.029 sec/step)\n",
            "INFO:tensorflow:global step 313: loss = 0.0089 (0.029 sec/step)\n",
            "INFO:tensorflow:global step 314: loss = 0.0054 (0.029 sec/step)\n",
            "INFO:tensorflow:global step 315: loss = 0.0243 (0.029 sec/step)\n",
            "INFO:tensorflow:global step 316: loss = 0.0002 (0.028 sec/step)\n",
            "INFO:tensorflow:global step 317: loss = 0.0103 (0.027 sec/step)\n",
            "INFO:tensorflow:global step 318: loss = 0.3981 (0.026 sec/step)\n",
            "INFO:tensorflow:global step 319: loss = 0.0057 (0.029 sec/step)\n",
            "INFO:tensorflow:global step 320: loss = 0.0440 (0.029 sec/step)\n",
            "INFO:tensorflow:global step 321: loss = 0.7290 (0.027 sec/step)\n",
            "INFO:tensorflow:global step 322: loss = 0.6157 (0.032 sec/step)\n",
            "INFO:tensorflow:global step 323: loss = 0.0304 (0.028 sec/step)\n",
            "INFO:tensorflow:global step 324: loss = 0.1018 (0.030 sec/step)\n",
            "INFO:tensorflow:global step 325: loss = 0.0781 (0.028 sec/step)\n",
            "INFO:tensorflow:global step 326: loss = 0.0011 (0.028 sec/step)\n",
            "INFO:tensorflow:global step 327: loss = 0.0025 (0.028 sec/step)\n"
          ],
          "name": "stdout"
        },
        {
          "output_type": "stream",
          "text": [
            "INFO:tensorflow:global step 328: loss = 0.0075 (0.028 sec/step)\n",
            "INFO:tensorflow:global step 329: loss = 0.0007 (0.028 sec/step)\n",
            "INFO:tensorflow:global step 330: loss = 0.3379 (0.029 sec/step)\n",
            "INFO:tensorflow:global step 331: loss = 0.0014 (0.026 sec/step)\n",
            "INFO:tensorflow:global step 332: loss = 0.0143 (0.027 sec/step)\n",
            "INFO:tensorflow:global step 333: loss = 0.3713 (0.029 sec/step)\n",
            "INFO:tensorflow:global step 334: loss = 1.0393 (0.034 sec/step)\n",
            "INFO:tensorflow:global step 335: loss = 0.0026 (0.028 sec/step)\n",
            "INFO:tensorflow:global step 336: loss = 0.0200 (0.028 sec/step)\n",
            "INFO:tensorflow:global step 337: loss = 0.0006 (0.029 sec/step)\n",
            "INFO:tensorflow:global step 338: loss = 0.3842 (0.027 sec/step)\n",
            "INFO:tensorflow:global step 339: loss = 0.0064 (0.028 sec/step)\n",
            "INFO:tensorflow:global step 340: loss = 0.0159 (0.030 sec/step)\n",
            "INFO:tensorflow:global step 341: loss = 0.0168 (0.029 sec/step)\n",
            "INFO:tensorflow:global step 342: loss = 0.1549 (0.027 sec/step)\n",
            "INFO:tensorflow:global step 343: loss = 0.0881 (0.029 sec/step)\n",
            "INFO:tensorflow:global step 344: loss = 1.2734 (0.028 sec/step)\n",
            "INFO:tensorflow:global step 345: loss = 0.0094 (0.028 sec/step)\n",
            "INFO:tensorflow:global step 346: loss = 0.3120 (0.032 sec/step)\n",
            "INFO:tensorflow:global step 347: loss = 2.1875 (0.030 sec/step)\n",
            "INFO:tensorflow:global step 348: loss = 0.5092 (0.030 sec/step)\n",
            "INFO:tensorflow:global step 349: loss = 1.2203 (0.028 sec/step)\n",
            "INFO:tensorflow:global step 350: loss = 0.0558 (0.029 sec/step)\n",
            "INFO:tensorflow:global step 351: loss = 0.2131 (0.029 sec/step)\n",
            "INFO:tensorflow:global step 352: loss = 0.1137 (0.027 sec/step)\n",
            "INFO:tensorflow:global step 353: loss = 0.6376 (0.027 sec/step)\n",
            "INFO:tensorflow:global step 354: loss = 0.0476 (0.028 sec/step)\n",
            "INFO:tensorflow:global step 355: loss = 0.2693 (0.029 sec/step)\n",
            "INFO:tensorflow:global step 356: loss = 1.0065 (0.028 sec/step)\n",
            "INFO:tensorflow:global step 357: loss = 0.0659 (0.033 sec/step)\n",
            "INFO:tensorflow:global step 358: loss = 0.2884 (0.030 sec/step)\n",
            "INFO:tensorflow:global step 359: loss = 0.0257 (0.029 sec/step)\n",
            "INFO:tensorflow:global step 360: loss = 0.2677 (0.027 sec/step)\n",
            "INFO:tensorflow:global step 361: loss = 0.0005 (0.026 sec/step)\n",
            "INFO:tensorflow:global step 362: loss = 0.7926 (0.028 sec/step)\n",
            "INFO:tensorflow:global step 363: loss = 0.0371 (0.028 sec/step)\n",
            "INFO:tensorflow:global step 364: loss = 0.0007 (0.027 sec/step)\n",
            "INFO:tensorflow:global step 365: loss = 0.0056 (0.029 sec/step)\n",
            "INFO:tensorflow:global step 366: loss = 0.5435 (0.030 sec/step)\n",
            "INFO:tensorflow:global step 367: loss = 0.0181 (0.031 sec/step)\n",
            "INFO:tensorflow:global step 368: loss = 0.2227 (0.027 sec/step)\n",
            "INFO:tensorflow:global step 369: loss = 0.0032 (0.029 sec/step)\n",
            "INFO:tensorflow:global step 370: loss = 0.0306 (0.029 sec/step)\n",
            "INFO:tensorflow:global step 371: loss = 0.0342 (0.030 sec/step)\n",
            "INFO:tensorflow:global step 372: loss = 0.0007 (0.029 sec/step)\n",
            "INFO:tensorflow:global step 373: loss = 0.9845 (0.030 sec/step)\n",
            "INFO:tensorflow:global step 374: loss = 0.0902 (0.030 sec/step)\n",
            "INFO:tensorflow:global step 375: loss = 0.0421 (0.029 sec/step)\n",
            "INFO:tensorflow:global step 376: loss = 0.1832 (0.029 sec/step)\n",
            "INFO:tensorflow:global step 377: loss = 0.0756 (0.028 sec/step)\n",
            "INFO:tensorflow:global step 378: loss = 0.0361 (0.027 sec/step)\n",
            "INFO:tensorflow:global step 379: loss = 0.0016 (0.033 sec/step)\n",
            "INFO:tensorflow:global step 380: loss = 0.0101 (0.029 sec/step)\n",
            "INFO:tensorflow:global step 381: loss = 0.0036 (0.029 sec/step)\n",
            "INFO:tensorflow:global step 382: loss = 0.0600 (0.027 sec/step)\n"
          ],
          "name": "stdout"
        },
        {
          "output_type": "stream",
          "text": [
            "INFO:tensorflow:global step 383: loss = 0.0040 (0.029 sec/step)\n",
            "INFO:tensorflow:global step 384: loss = 0.1355 (0.028 sec/step)\n",
            "INFO:tensorflow:global step 385: loss = 0.1175 (0.026 sec/step)\n",
            "INFO:tensorflow:global step 386: loss = 2.2660 (0.030 sec/step)\n",
            "INFO:tensorflow:global step 387: loss = 0.0002 (0.029 sec/step)\n",
            "INFO:tensorflow:global step 388: loss = 0.0229 (0.028 sec/step)\n",
            "INFO:tensorflow:global step 389: loss = 0.0669 (0.027 sec/step)\n",
            "INFO:tensorflow:global step 390: loss = 0.0078 (0.029 sec/step)\n",
            "INFO:tensorflow:global step 391: loss = 0.2718 (0.036 sec/step)\n",
            "INFO:tensorflow:global step 392: loss = 0.0064 (0.025 sec/step)\n",
            "INFO:tensorflow:global step 393: loss = 0.0237 (0.029 sec/step)\n",
            "INFO:tensorflow:global step 394: loss = 0.4880 (0.030 sec/step)\n",
            "INFO:tensorflow:global step 395: loss = 0.3797 (0.027 sec/step)\n",
            "INFO:tensorflow:global step 396: loss = 0.0764 (0.027 sec/step)\n",
            "INFO:tensorflow:global step 397: loss = 0.1783 (0.028 sec/step)\n",
            "INFO:tensorflow:global step 398: loss = 1.6525 (0.028 sec/step)\n",
            "INFO:tensorflow:global step 399: loss = 0.0212 (0.028 sec/step)\n",
            "INFO:tensorflow:global step 400: loss = 0.3412 (0.028 sec/step)\n"
          ],
          "name": "stdout"
        }
      ]
    },
    {
      "metadata": {
        "id": "fPcixIBwvvn7",
        "colab_type": "code",
        "colab": {
          "autoexec": {
            "startup": false,
            "wait_interval": 0
          }
        }
      },
      "source": [
        ""
      ],
      "cell_type": "code",
      "execution_count": 0,
      "outputs": []
    }
  ]
}
